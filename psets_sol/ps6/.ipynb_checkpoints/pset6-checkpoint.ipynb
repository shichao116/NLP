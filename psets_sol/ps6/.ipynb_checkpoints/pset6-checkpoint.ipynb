{
 "cells": [
  {
   "cell_type": "markdown",
   "metadata": {},
   "source": [
    "# Project 6. Distributed Embeddings and Semi-Supervised Learning #\n",
    "\n",
    "In this assignment, you will use singular value decomposition (SVD) as well as Word2Vec to learn about lexical semantics. You will have to work with \"big\" data\n",
    "- big enough that you will have to think carefully about speed and memory. Of particular importance will **sparse** matrix\n",
    "representations of your data. For this problem you will be submitting pdf version of ipython with outputs along with original ipython. Some particular functions and classes you might need:\n",
    "\n",
    "- [scipy.sparse.csr_matrix](http://docs.scipy.org/doc/scipy/reference/generated/scipy.sparse.csr_matrix.html) - matrix in compressed sparse row format\n",
    "- [scipy.sparse.diags](http://docs.scipy.org/doc/scipy/reference/generated/scipy.sparse.diags.html) - method for creating sparse diagonal matrices\n",
    "- [diagonal()](http://docs.scipy.org/doc/numpy/reference/generated/numpy.diagonal.html) - get the diagonal of a matrix\n",
    "- [sklearn.preprocessing.normalize](http://scikit-learn.org/stable/modules/generated/sklearn.preprocessing.normalize.html) - efficiently normalize sparse matrices\n",
    "- [scipy.sparse.csr_matrix.asfptype()](http://docs.scipy.org/doc/scipy/reference/generated/scipy.sparse.csr_matrix.asfptype.html) - upcast matrix to a floating point format\n",
    "- [scipy.cluster.vq.kmeans2](http://docs.scipy.org/doc/scipy/reference/generated/scipy.cluster.vq.kmeans2.html#scipy.cluster.vq.kmeans2) - Classify a set of observations into k clusters using the k-means algorithm\n",
    "- [numpy.argsort](http://docs.scipy.org/doc/numpy/reference/generated/numpy.argsort.html) - returns the indices that would sort an array\n"
   ]
  },
  {
   "cell_type": "code",
   "execution_count": 2,
   "metadata": {
    "collapsed": false
   },
   "outputs": [
    {
     "name": "stdout",
     "output_type": "stream",
     "text": [
      "Populating the interactive namespace from numpy and matplotlib\n",
      "Populating the interactive namespace from numpy and matplotlib\n"
     ]
    }
   ],
   "source": [
    "%pylab inline\n",
    "from scipy.sparse.linalg import svds\n",
    "from scipy.sparse import hstack, diags, csr_matrix\n",
    "from sklearn.preprocessing import normalize\n",
    "import numpy as np\n",
    "import csv\n",
    "from collections import defaultdict, Counter\n",
    "import matplotlib.pyplot as plt\n",
    "%pylab --no-import-all inline"
   ]
  },
  {
   "cell_type": "code",
   "execution_count": 3,
   "metadata": {
    "collapsed": false
   },
   "outputs": [],
   "source": [
    "def csv2csr(filename):\n",
    "    word = []\n",
    "    context = []\n",
    "    count = []\n",
    "    with open(filename,'rb') as infile:\n",
    "        reader = csv.reader(infile)\n",
    "        for row in reader:\n",
    "            word.append(int(row[0]))\n",
    "            context.append(int(row[1]))\n",
    "            count.append(int(row[2]))\n",
    "    return csr_matrix((count,(word,context)))\n",
    "\n",
    "def readVocab(filename):\n",
    "    vocab = []\n",
    "    with open(filename,'rb') as vocabfile:\n",
    "        for line in vocabfile:\n",
    "            vocab.append(line.split()[0])\n",
    "    index = dict(zip(range(0,len(vocab)),vocab)) #from numbers to words\n",
    "    inv_index = {j:i for i,j in index.items()} #from words to numbers\n",
    "    return index,inv_index\n"
   ]
  },
  {
   "cell_type": "markdown",
   "metadata": {},
   "source": [
    "## 1. Loading the Data ##\n",
    "\n",
    "Call **C=proj4_starter.csv2csr('doc_trips.csv')** to load a sparse matrix $C$ of a word-document counts. The cell $c[i,j]$ should \n",
    "hold the count of word $i$ in document $j$.\n",
    "\n",
    "Call **idx, iidx=proj4_starter.readVocab('vocab.10k')** to load the vocabulary. You get two **dict** objects, mapping between words \n",
    "and indices in the matrix $C$. In **C[iidx['Obama'],:]**, you have the document counts for the word *Obama*."
   ]
  },
  {
   "cell_type": "code",
   "execution_count": 4,
   "metadata": {
    "collapsed": false
   },
   "outputs": [
    {
     "name": "stdout",
     "output_type": "stream",
     "text": [
      "(9993, 1000000)\n"
     ]
    }
   ],
   "source": [
    "C = csv2csr('doc_trips.csv')\n",
    "idx, iidx = readVocab('vocab.10k')\n",
    "print C.shape"
   ]
  },
  {
   "cell_type": "code",
   "execution_count": 5,
   "metadata": {
    "collapsed": false
   },
   "outputs": [
    {
     "data": {
      "text/plain": [
       "<9993x1000000 sparse matrix of type '<type 'numpy.int64'>'\n",
       "\twith 7733607 stored elements in Compressed Sparse Row format>"
      ]
     },
     "execution_count": 5,
     "metadata": {},
     "output_type": "execute_result"
    }
   ],
   "source": [
    "C"
   ]
  },
  {
   "cell_type": "markdown",
   "metadata": {},
   "source": [
    "## 2. Cosine Similarity ##\n",
    "\n",
    "The *cosine similarity* of two vectors $u$ and $v$ is defined as \n",
    "$$\\frac{\\sum_{i}u_iv_i}{\\sqrt{\\sum_iu_i^2\\sum_iv_i^2}}$$"
   ]
  },
  {
   "cell_type": "markdown",
   "metadata": {},
   "source": [
    "** Deliverable 2a** Consider the words *coffee, play, crazy, facebook*, and *hermana* (Spanish for *sister*). For each of them, find the 10 most similar words according to cosine similarity of the rows in $C$. (2 points)\n",
    "\n",
    "**Hint** The size of the vocabulary is nearly 10,000 words. You do not want to compute and store the entire $10K\\times 10K$ matrix \n",
    "of cosine similarities. Rather, you want to compute them on demand for a given row of the matrix. You may also want to do some\n",
    "precomputation to take care of denominator in advance. Whatever you do, don't lose the sparsity of $C$, or you will not be able \n",
    "to store it.\n",
    "\n",
    "**Sanity check** For *facebook*, the top 5 words I get are *facebook page on twitter deleted instagram*"
   ]
  },
  {
   "cell_type": "code",
   "execution_count": 6,
   "metadata": {
    "collapsed": false
   },
   "outputs": [],
   "source": [
    "# Here is the word list\n",
    "word_list = ['coffee','play','crazy','facebook','hermana']"
   ]
  },
  {
   "cell_type": "code",
   "execution_count": 7,
   "metadata": {
    "collapsed": true
   },
   "outputs": [],
   "source": [
    "def normalizeRow(x):\n",
    "    '''\n",
    "    Normalize each row of x\n",
    "    '''\n",
    "    return diags(np.array(1./(1e-6+np.sqrt(x.multiply(x).sum(axis=1))))[:,0],0) * x\n",
    "\n",
    "def computeCosSimPerWord(word_idx, x):\n",
    "    '''\n",
    "    For a given data matrix, compute cosine similarity between the word with index \"word_index\" and all words \n",
    "    (including itsself)\n",
    "    \n",
    "    Should return a 1-D np.array, not a matrix.\n",
    "    '''\n",
    "    # x should be normalizedC below\n",
    "    return x.dot(x[word_idx,:].T).toarray()[:,0]"
   ]
  },
  {
   "cell_type": "code",
   "execution_count": 8,
   "metadata": {
    "collapsed": true
   },
   "outputs": [],
   "source": [
    "normalizedC = normalizeRow(C)"
   ]
  },
  {
   "cell_type": "markdown",
   "metadata": {},
   "source": [
    "printSimilarWords  is used to print the top 10 similar words to a given word"
   ]
  },
  {
   "cell_type": "code",
   "execution_count": 9,
   "metadata": {
    "collapsed": false
   },
   "outputs": [],
   "source": [
    "def printSimilarWords(x, word_list, sim_func, vocab=idx, ivocab=iidx):\n",
    "    for word in word_list:\n",
    "        print word, ':', \n",
    "        word_idx = ivocab[word]\n",
    "        sim_idx = np.argsort(-sim_func(word_idx, x))[:10]\n",
    "        for word2_idx in sim_idx:\n",
    "            print vocab[word2_idx],\n",
    "        print ''"
   ]
  },
  {
   "cell_type": "code",
   "execution_count": 10,
   "metadata": {
    "collapsed": false
   },
   "outputs": [
    {
     "name": "stdout",
     "output_type": "stream",
     "text": [
      "coffee : coffee mug shop starbucks drinking drink cup cups and large \n",
      "play : play to games game the and with soccer i . \n",
      "crazy : crazy 's how that it shit is drives i . \n",
      "facebook : facebook page on twitter deleted instagram status compra post whatsapp \n",
      "hermana : hermana mi concha la y de tu con regalo que \n"
     ]
    }
   ],
   "source": [
    "printSimilarWords(normalizedC, word_list, sim_func=computeCosSimPerWord)"
   ]
  },
  {
   "cell_type": "markdown",
   "metadata": {},
   "source": [
    "** Deliverable 2b ** Come up with five words of your own that you think might be interesting, and list the top 10 most similar for each. Try to choose a few different types of words, such as verbs, adjectives, names, emotions, abbreviations, or alternative spellings. (1 point)"
   ]
  },
  {
   "cell_type": "code",
   "execution_count": 11,
   "metadata": {
    "collapsed": false
   },
   "outputs": [],
   "source": [
    "additional_word_list = ['computer', 'google', 'science', 'math', 'physics']"
   ]
  },
  {
   "cell_type": "code",
   "execution_count": 12,
   "metadata": {
    "collapsed": false
   },
   "outputs": [
    {
     "name": "stdout",
     "output_type": "stream",
     "text": [
      "computer : computer lab my screen transfer gates staring virus science on \n",
      "google : google search image compra global searching autocorrect youtube according facebook \n",
      "science : science maths physical earth rocket computer english math study balance \n",
      "math : math homework teacher class test problems study exam solve subject \n",
      "physics : physics maths lab tests further subject assignment reaction british kanina \n"
     ]
    }
   ],
   "source": [
    "printSimilarWords(normalizedC, additional_word_list, sim_func=computeCosSimPerWord)"
   ]
  },
  {
   "cell_type": "markdown",
   "metadata": {},
   "source": [
    "## 3. Document Co-occurence ##\n",
    "\n",
    "Compute the document co-occurence matrix $D$, where $d_{i,j}$ is the probability $P(w_j|w_i)$ that word $j$ appears in a tweet, \n",
    "given that word $i$ appears. To do this, first compute the co-occurence counts $CC^\\top$. Substract the diagonal, then normalize \n",
    "each row. \n",
    "\n",
    "Note: it is possible to smooth this probability, but if you naively add some number to the matrix, you will lose sparsity \n",
    "and memory will blow up. You can do it unsmoothed. However, smoothing is not required here."
   ]
  },
  {
   "cell_type": "markdown",
   "metadata": {},
   "source": [
    "** Deliverable 3** For each of the 10 examples above (my five words and your five words), find the 10 most similar words according to cosine similarity of the rows of $D$. (2 points)\n",
    "\n",
    "**Sanity check** For *facebook*, the 5 words I get are *facebook instagram twitter tv youtube*"
   ]
  },
  {
   "cell_type": "code",
   "execution_count": 13,
   "metadata": {
    "collapsed": false
   },
   "outputs": [],
   "source": [
    "def computeCooccurMatrix(C):\n",
    "    '''\n",
    "    Compute the co-occurence matrix D\n",
    "    '''\n",
    "    D = C.dot(C.T)\n",
    "    D = D - diags(D.diagonal(),0)\n",
    "    '''\n",
    "    coeff_norms = np.array(np.sqrt(C.multiply(C).sum(axis=1)))[:,0]\n",
    "    for i in range(D.nnz):\n",
    "        print i\n",
    "        row = D.nonzero()[0][i]\n",
    "        col = D.nonzero()[1][i]\n",
    "        coeff = np.sqrt(coeff_norms[row]*coeff_norms[col])\n",
    "        D[row,col] = D[row,col]/coeff\n",
    "    '''\n",
    "    return D\n",
    "\n",
    "D = computeCooccurMatrix(C)\n",
    "normalizedD = normalizeRow(D)"
   ]
  },
  {
   "cell_type": "code",
   "execution_count": 14,
   "metadata": {
    "collapsed": true
   },
   "outputs": [],
   "source": [
    "word_list = word_list + additional_word_list"
   ]
  },
  {
   "cell_type": "code",
   "execution_count": 15,
   "metadata": {
    "collapsed": false
   },
   "outputs": [
    {
     "name": "stdout",
     "output_type": "stream",
     "text": [
      "coffee : coffee new today drinking getting food after day eating water \n",
      "play : play down be back pass show beat them up run \n",
      "crazy : crazy weird sad not stupid damn actually cool about over \n",
      "facebook : facebook instagram twitter tv youtube tumblr 100 note ex insta \n",
      "hermana : hermana abuela hermano vieja novio novia viejo padre familia corazon \n",
      "computer : computer phone mind body family own arm head cat husband \n",
      "google : google online okay true 100% super alright wow very oh \n",
      "science : science free record red gold new big form line football \n",
      "math : math seriously lost today exam damn completely literally test paper \n",
      "physics : physics new after book dance test kid with time today \n"
     ]
    }
   ],
   "source": [
    "printSimilarWords(normalizedD, word_list, sim_func=computeCosSimPerWord)"
   ]
  },
  {
   "cell_type": "markdown",
   "metadata": {},
   "source": [
    "## 4. Latent Semantic Analysis ##\n",
    "\n",
    "Perform truncated SVD (**scipy.sparse.linalg.svds**) to obtain $USV^\\top\\approx C$ using $K=10$. Each row vector $u_i$\n",
    "is a description of the word $i$. You can compute similarity between pairs of words using the squared Euclidean norm \n",
    "$\\|u_i-u_j\\|^2_2$."
   ]
  },
  {
   "cell_type": "markdown",
   "metadata": {},
   "source": [
    "** Deliverable 4(a)** For each of the 10 examples above, find the 10 most similar words according to squared Euclidean distance in $U$. (3 points)\n",
    "\n",
    "**Sanity check** For *facebook*, the top 5 words are *facebook ex harry calls snap *"
   ]
  },
  {
   "cell_type": "code",
   "execution_count": 16,
   "metadata": {
    "collapsed": false
   },
   "outputs": [],
   "source": [
    "def computeEuclidDist(word_idx, U,with_S = False):\n",
    "    '''\n",
    "    Compute the Euclid distance bwteen word with index \"word_idx\" and all words \n",
    "    (including itself)\n",
    "    \n",
    "    Args:\n",
    "      word_idx - the word index\n",
    "      U - latent representation of words\n",
    "    Return:\n",
    "        Euclidean distance from representation of word_idx to all words\n",
    "    '''\n",
    "    dis = np.sum((U - U[word_idx,:])**2,axis=1)\n",
    "    return dis"
   ]
  },
  {
   "cell_type": "code",
   "execution_count": 17,
   "metadata": {
    "collapsed": false
   },
   "outputs": [],
   "source": [
    "'''\n",
    "Once you finish the function computeEuclidDist, run the following code directly to print results\n",
    "'''\n",
    "Cfp= C.asfptype()\n",
    "U = svds(Cfp, 10)[0]"
   ]
  },
  {
   "cell_type": "code",
   "execution_count": 18,
   "metadata": {
    "collapsed": false
   },
   "outputs": [
    {
     "name": "stdout",
     "output_type": "stream",
     "text": [
      "coffee : coffee drinking paper cat eating apparently turned short dress months \n",
      "play : play looking everyone anyone another start coming use enough away \n",
      "crazy : crazy gone stupid sad cool yet funny perfect must once \n",
      "facebook : facebook ex harry calls snap instagram ...... uh 18 fav \n",
      "hermana : hermana unas minutos colegio toca novia verte gana juego unos \n",
      "computer : computer productive tie swim paint cancer adult reaction wide dry \n",
      "google : google adam mrs download ryan nick hero speaking haters cash \n",
      "science : science wood silver chapter range political wing rate injured setting \n",
      "math : math emotional stayed annoyed glasses stopped throat oops studying grew \n",
      "physics : physics blunts nine washed beyonce rolled pounds dip 1% shoulders \n"
     ]
    }
   ],
   "source": [
    "printSimilarWords(U, word_list, sim_func=lambda word_idx, U : -computeEuclidDist(word_idx,U))"
   ]
  },
  {
   "cell_type": "markdown",
   "metadata": {},
   "source": [
    "** Deliverable 4(b) ** Now compute the same SVD with $K=50$, and again find the 10 most similar words according to Euclidean distance $U$. (1 point)"
   ]
  },
  {
   "cell_type": "code",
   "execution_count": 19,
   "metadata": {
    "collapsed": true
   },
   "outputs": [],
   "source": [
    "# your code here\n",
    "U = svds(Cfp,50)[0]"
   ]
  },
  {
   "cell_type": "code",
   "execution_count": 20,
   "metadata": {
    "collapsed": false
   },
   "outputs": [
    {
     "name": "stdout",
     "output_type": "stream",
     "text": [
      "coffee : coffee tea wine four gas midnight starbucks service wedding six \n",
      "play : play hang run chill we're agree nobody kids fight games \n",
      "crazy : crazy weird stupid actually af dumb serious dead ugly dude \n",
      "facebook : facebook instagram focus ig netflix earth floor fb tl list \n",
      "hermana : hermana sonrisa llevo plata jajajaj realidad arriba jajaj vuelta novia \n",
      "computer : computer forehead ankle toe toes battery shoulder shoulders plate whilst \n",
      "google : google dvd flappy drawing bbc gd spin vid mobile replay \n",
      "science : science indian silver ukraine agent ops 140 bjp alabama oklahoma \n",
      "math : math research chemistry physics doo frozen tech lab appointment ...? \n",
      "physics : physics pong bd mesaj 150 cricket ahahahaha smfh tfios lawrence \n"
     ]
    }
   ],
   "source": [
    "printSimilarWords(U, word_list, sim_func=lambda word_idx, U : -computeEuclidDist(word_idx,U))"
   ]
  },
  {
   "cell_type": "markdown",
   "metadata": {},
   "source": [
    "** Deliverable 4(c) ** Now compute the SVD of the matrix $\\mathbf{D}$, using with $K = 10$, and $K = 50$. Report \n",
    "the most similar words to each of the example words according to Euclidean distance in $U$. (1 point)"
   ]
  },
  {
   "cell_type": "code",
   "execution_count": 21,
   "metadata": {
    "collapsed": false
   },
   "outputs": [
    {
     "name": "stdout",
     "output_type": "stream",
     "text": [
      "coffee : coffee paper complete chinese turning workout ordered hour perfectly cutting \n",
      "play : play animals order fill hyped they halfway out speaking happening \n",
      "crazy : crazy still worked checked yesterday started more might opinion surprised \n",
      "facebook : facebook anime gossip 10x ex chocolate lips loose calls flappy \n",
      "hermana : hermana cualquier huevo abuela #buenasnoches poco las mis durmiendo vueltas \n",
      "computer : computer daughter break certain growing yogurt husband eating shift belly \n",
      "google : google online jackie super ab goo abs facts safe 9:30 \n",
      "science : science red utd silver bill stretch runs walker landed indian \n",
      "math : math typing timeline fml starving glasses addiction ink ruined ruin \n",
      "physics : physics teacher blunts beyonce bone sex #smh finding sunburn closet \n"
     ]
    }
   ],
   "source": [
    "# your code here for K = 10\n",
    "Dfp = normalizedD.asfptype()\n",
    "U = svds(Dfp, 10)[0]\n",
    "printSimilarWords(U, word_list, sim_func=lambda word_idx, U : -computeEuclidDist(word_idx,U))"
   ]
  },
  {
   "cell_type": "code",
   "execution_count": 22,
   "metadata": {
    "collapsed": false
   },
   "outputs": [
    {
     "name": "stdout",
     "output_type": "stream",
     "text": [
      "coffee : coffee tea six food night today half sugar new miles \n",
      "play : play pass run i'm win beat other him back be \n",
      "crazy : crazy nasty cool funny lame true fast pretty scary not \n",
      "facebook : facebook instagram twitter ig youtube netflix focus based tv tumblr \n",
      "hermana : hermana novia abuela vieja hermano reina sonrisa familia padre amiga \n",
      "computer : computer laptop phone screen account arm leg shoulder license ankle \n",
      "google : google 100% reading 100 online ok too correct about an \n",
      "science : science david paul code football an health challenge christ career \n",
      "math : math exam literally english lost now test essay seriously today \n",
      "physics : physics nine new bell soccer basketball writing disney rose gaga \n"
     ]
    }
   ],
   "source": [
    "# your code here for K = 50\n",
    "Dfp = normalizedD.asfptype()\n",
    "U = svds(Dfp, 50)[0]\n",
    "printSimilarWords(U, word_list, sim_func=lambda word_idx, U : -computeEuclidDist(word_idx,U))"
   ]
  },
  {
   "cell_type": "code",
   "execution_count": 23,
   "metadata": {
    "collapsed": false
   },
   "outputs": [
    {
     "name": "stdout",
     "output_type": "stream",
     "text": [
      "coffee : coffee tea food pizza drink new half green ice all \n",
      "play : play be run beat win start down up drive come \n",
      "crazy : crazy actually about dude scary cool not too legit pretty \n",
      "facebook : facebook twitter instagram tv youtube tumblr ig social focus based \n",
      "hermana : hermana hermano abuela vieja novio reina padre favorito novia corazon \n",
      "computer : computer phone screen laptop flight arm account toe list ankle \n",
      "google : google an ok too show as haha 100 lol now \n",
      "science : science water new an code joe challenge meat american free \n",
      "math : math now test chemistry period study literally all apparently lost \n",
      "physics : physics math gas now actually bell green near basketball new \n"
     ]
    }
   ],
   "source": [
    "# optionally, try K = 100 and see if it's even better\n",
    "Dfp = normalizedD.asfptype()\n",
    "U = svds(Dfp, 100)[0]\n",
    "printSimilarWords(U, word_list, sim_func=lambda word_idx, U : -computeEuclidDist(word_idx,U))"
   ]
  },
  {
   "cell_type": "markdown",
   "metadata": {},
   "source": [
    "## 5. Local Context ##\n",
    "\n",
    "Local context captures the frequency with which words appear in each others’ immediate context. We have provided a CSV file (succ_trips_50k.csv)  in which each line contains a triple $\\langle x,y,z\\rangle$, \n",
    "where $x$ and $y$ are term IDs and $z$ is the count of times where $y$ immediately follows $x$ . \n",
    "The vocabulary has now increased to 50K words. There is an associated vocabulary file, **vocab.50k**.\n",
    "\n",
    "**Deliverable 5a **\n",
    "Build a sparse matrix $\\mathbf{E}$ from these triples. Normalize the rows of $\\mathbf{E}$, such that $e_{i,j}=\\frac{n(i,j)}{n(i)}$, the probability of seeing word $j$ given that you have just seen word $i$. \n",
    "Now form a matrix $\\mathbf{F} = [\\mathbf{E}~ \\mathbf{E}’]$ by horizontally concatenating the normalized matrix $\\mathbf{E}$. You will perform sparse singular value decomposition on $\\mathbf{F}$. (2 points)\n",
    "\n",
    "**Hint** make sure you are using a sparsity-preserving operation to combine E and E'!"
   ]
  },
  {
   "cell_type": "code",
   "execution_count": 24,
   "metadata": {
    "collapsed": false
   },
   "outputs": [],
   "source": [
    "idx_50, iidx_50 = readVocab('vocab.50k')\n",
    "E = csv2csr('succ_trips_50k.csv')"
   ]
  },
  {
   "cell_type": "code",
   "execution_count": 25,
   "metadata": {
    "collapsed": false
   },
   "outputs": [],
   "source": [
    "import scipy.sparse as sp\n",
    "def constructF(E):\n",
    "    '''\n",
    "    Finish the following code to construct F from E\n",
    "    '''\n",
    "    nE = diags(1./(1e-6+np.array(E.sum(axis=1)))[:,0],0)*E\n",
    "    Enorm = sp.hstack((nE,nE.T))\n",
    "    return Enorm\n",
    "    \n",
    "F = constructF(E)"
   ]
  },
  {
   "cell_type": "markdown",
   "metadata": {},
   "source": [
    "** Deliverable 5b ** For $K = 10$ and $K = 50$ compute the top 10 synonyms for each of your ten words. (1 point)"
   ]
  },
  {
   "cell_type": "code",
   "execution_count": 26,
   "metadata": {
    "collapsed": false
   },
   "outputs": [
    {
     "name": "stdout",
     "output_type": "stream",
     "text": [
      "coffee : coffee low common line hill learning golf bestfriend baseball speech \n",
      "play : play through keep live black show white between eat red \n",
      "crazy : crazy times card monday funny stupid fun fast died slow \n",
      "facebook : facebook touchdown tasha hooked cnn drugged 99% giggs carrie alcohol \n",
      "hermana : hermana hermano ando aun negro vivimos gordo duran tantos sera \n",
      "computer : computer reaction camera reserve nation truck bank steel cat license \n",
      "google : google holla carter elvis clearly megan don't. norman ashley acid \n",
      "science : science deliver binge bill guardian hip rate header wing washed \n",
      "math : math hiking lacking bitchy gps contest blair randle sex bolton \n",
      "physics : physics cba lallana cuts commentators diamonds technique hull comm collecting \n"
     ]
    }
   ],
   "source": [
    "# K = 10\n",
    "U_f,S_f,V_f = svds(F, 10)\n",
    "# note that we have to insert the new vocabulary as an optional argument\n",
    "printSimilarWords(U_f, word_list, sim_func=lambda word_idx, U : -computeEuclidDist(word_idx,U),vocab=idx_50,ivocab = iidx_50)"
   ]
  },
  {
   "cell_type": "code",
   "execution_count": 27,
   "metadata": {
    "collapsed": false
   },
   "outputs": [
    {
     "name": "stdout",
     "output_type": "stream",
     "text": [
      "coffee : coffee grace selfies milk dicks posts yogurt wage fathers blunts \n",
      "play : play comes fly drive hang skip perform kick goes talks \n",
      "crazy : crazy funny dead dope scary monday annoying far creepy cancelled \n",
      "facebook : facebook tumblr twitter youtube saturdays messin instagram anatomy valentines announced \n",
      "hermana : hermana tomo canta siendo haciendo papa llora avete escuchando hepimiz \n",
      "computer : computer laptop soul mouth wrist room desk shoulder boyfriends husband \n",
      "google : google comment emoji skipping bak yaya id scout fair floyd \n",
      "science : science england kentucky various spain training five april serving effect \n",
      "math : math gfs pad bio tax tits blood manager shift business \n",
      "physics : physics english drivers theory buds exam italian sneakers pad lining \n"
     ]
    }
   ],
   "source": [
    "# your code for K = 50 here\n",
    "U_f,S_f,V_f = svds(F, 50)\n",
    "# note that we have to insert the new vocabulary as an optional argument\n",
    "printSimilarWords(U_f, word_list, sim_func=lambda word_idx, U : -computeEuclidDist(word_idx,U),vocab=idx_50,ivocab = iidx_50)"
   ]
  },
  {
   "cell_type": "markdown",
   "metadata": {},
   "source": [
    "**Deliverable 5c ** Overall, which set of synonyms looks best to you? \n",
    "Count how many of the top 5 synonyms for *coffee* and   *crazy*\n",
    "have the same majority part of speech (e.g., *play* is a verb) as the cue word.\n",
    "Use the tagset from the [Twitter POS paper](http://www.cc.gatech.edu/~jeisenst/papers/acl2012pos.pdf). Does local context or document context do better at matching the POS of the cue words? Why? (Consider first context provided by wordnet as majority POS). (3 points)"
   ]
  },
  {
   "cell_type": "markdown",
   "metadata": {},
   "source": [
    "*(Your answer here)*: \n",
    "- Overall, the set of synonyms of \"facebook\" looks best to me: facebook, tumblr, twitter, youtube are all very similar words w.r.t facebook.\n",
    "- coffee: grace selfies milk dicks posts. All top five have the same POS as coffee: noun.\n",
    "- crazy: funny dead dope scary monday. Among top 5 synonyms of crazy, funny, dead, and scary have the same POS as crazy: adjective.\n",
    "\n",
    "Local context does better at matching the POS of cue words. Because local context tend to select words that can be mutually replaced at the same place(at least syntactically),which means these words are very likely has the same POS. However, document context tend to select words that are topic-related, such as \"dog and bark\", \"cat and scratch\" etc, apparently they don't have the same POS.\n",
    "\n"
   ]
  },
  {
   "cell_type": "markdown",
   "metadata": {},
   "source": [
    "## 6. Word2Vec ##\n",
    "As mentioned in the class Word2Vec are distributed continuous vector representations  for words.\n",
    "In this part, you will be building and training Word2Vec module keeping in mind various hyper parameters such as min_count, window_size etc.(10 points)\n",
    "You will be using Gensim http://radimrehurek.com/gensim/ to train your model.\n",
    "\n",
    "- For instructions on how to install gensim, see [here](https://radimrehurek.com/gensim/install.html). \n",
    "- I strongly recommend that you test your install by downloading the [source](http://pypi.python.org/pypi/gensim) and running ```python setup.py test```\n",
    "- For a tutorial on how to use gensim for word embeddings, see [here](http://rare-technologies.com/word2vec-tutorial/)\n",
    "- It is recommended that you have a working c compiler, so that the much faster cythonized gensim can run. This is transparent to you, but does require that you have a c compiler installed.\n"
   ]
  },
  {
   "cell_type": "code",
   "execution_count": 28,
   "metadata": {
    "collapsed": true
   },
   "outputs": [],
   "source": [
    "from nltk.tokenize import word_tokenize"
   ]
  },
  {
   "cell_type": "code",
   "execution_count": 29,
   "metadata": {
    "collapsed": true
   },
   "outputs": [],
   "source": [
    "def read_data(filename):\n",
    "        print \"Opening the file...\"\n",
    "        X_train = []\n",
    "        f = open(filename,'r')\n",
    "        count = 0\n",
    "        for line in f.readlines():\n",
    "            sentence = []\n",
    "            line = line.strip()\n",
    "            if not line: continue\n",
    "            try:\n",
    "                sentence = word_tokenize(line)\n",
    "            except:\n",
    "                pass\n",
    "            if(len(sentence) > 2):\n",
    "                count =count+1\n",
    "                X_train.append(array(sentence))\n",
    "        print \"File successfully read\"\n",
    "        print count , \"sentences\"\n",
    "        f.close()\n",
    "        return array(X_train)"
   ]
  },
  {
   "cell_type": "code",
   "execution_count": 30,
   "metadata": {
    "collapsed": false
   },
   "outputs": [
    {
     "name": "stdout",
     "output_type": "stream",
     "text": [
      "Opening the file...\n",
      "File successfully read\n",
      "17392 sentences\n"
     ]
    }
   ],
   "source": [
    "sentences = read_data('wiki.train.en')"
   ]
  },
  {
   "cell_type": "code",
   "execution_count": 31,
   "metadata": {
    "collapsed": false,
    "scrolled": true
   },
   "outputs": [
    {
     "data": {
      "text/plain": [
       "array(['Anarchism', 'is', 'a', 'political', 'philosophy', 'that',\n",
       "       'advocates', 'stateless', 'societies', 'often', 'defined', 'as',\n",
       "       'self-governed', 'voluntary', 'institutions', ',', 'but', 'that',\n",
       "       'several', 'authors', 'have', 'defined', 'as', 'more', 'specific',\n",
       "       'institutions', 'based', 'on', 'non-hierarchical', 'free',\n",
       "       'associations', '.', 'Anarchism', 'holds', 'the', 'state', 'to',\n",
       "       'be', 'undesirable', ',', 'unnecessary', ',', 'or', 'harmful', '.',\n",
       "       'While', 'anti-statism', 'is', 'central', ',', 'anarchism',\n",
       "       'entails', 'opposing', 'authority', 'or', 'hierarchical',\n",
       "       'organisation', 'in', 'the', 'conduct', 'of', 'human', 'relations',\n",
       "       ',', 'including', ',', 'but', 'not', 'limited', 'to', ',', 'the',\n",
       "       'state', 'system', '.'], \n",
       "      dtype='|S16')"
      ]
     },
     "execution_count": 31,
     "metadata": {},
     "output_type": "execute_result"
    }
   ],
   "source": [
    "sentences[0]"
   ]
  },
  {
   "cell_type": "markdown",
   "metadata": {},
   "source": [
    "To build and train model you will be using [Gensim](http://radimrehurek.com/gensim/). \n",
    "\n",
    "This [tutorial](https://radimrehurek.com/gensim/models/word2vec.html) may help."
   ]
  },
  {
   "cell_type": "markdown",
   "metadata": {},
   "source": [
    "**Deliverable 6a**: Build a model with embedding size = 10, and build a vocabulary from the data, with min_count = 10. Print the vocabulary size, which should be between 9000 and 10000. (1 point)"
   ]
  },
  {
   "cell_type": "code",
   "execution_count": 32,
   "metadata": {
    "collapsed": false
   },
   "outputs": [
    {
     "name": "stdout",
     "output_type": "stream",
     "text": [
      "9911\n"
     ]
    }
   ],
   "source": [
    "# your code here\n",
    "import gensim\n",
    "model = gensim.models.Word2Vec(sentences,min_count=10,size=8,iter=3) #size = 10 doesn't meet the requirement, however, size=8 does\n",
    "print len(model.vocab.keys())"
   ]
  },
  {
   "cell_type": "markdown",
   "metadata": {},
   "source": [
    "**Deliverable 6b**: Train your model for one iteration, and report the similarity between the words (\"cat\" and \"dog\"), (\"night\" and \"day\"), and (\"can\" and \"fish\"). (2 points)\n",
    "\n",
    "**Hint**: before training on the whole dataset, train on sentences[0:5] to make sure it works and isn't too slow. On my laptop, one iteration takes 2-3 seconds. \n",
    "\n",
    "**Sanity check** the similarity I get between \"cat\" and \"dog\" is 0.13"
   ]
  },
  {
   "cell_type": "code",
   "execution_count": 33,
   "metadata": {
    "collapsed": false
   },
   "outputs": [
    {
     "data": {
      "text/plain": [
       "3312399"
      ]
     },
     "execution_count": 33,
     "metadata": {},
     "output_type": "execute_result"
    }
   ],
   "source": [
    "# your code here\n",
    "model.train(sentences)"
   ]
  },
  {
   "cell_type": "code",
   "execution_count": 34,
   "metadata": {
    "collapsed": false
   },
   "outputs": [
    {
     "name": "stdout",
     "output_type": "stream",
     "text": [
      "similarity between 'cat' and 'dog': 0.172515839666\n",
      "similarity between 'night' and 'day': 0.854251690713\n",
      "similarity between 'can' and 'fish': 0.24742204616\n"
     ]
    }
   ],
   "source": [
    "print \"similarity between 'cat' and 'dog':\",model.similarity('cat','dog')\n",
    "print \"similarity between 'night' and 'day':\",model.similarity('night','day')\n",
    "print \"similarity between 'can' and 'fish':\",model.similarity('can','fish')"
   ]
  },
  {
   "cell_type": "markdown",
   "metadata": {},
   "source": [
    "**Deliverable 6c** Modify the code below to compare the performance of different embedding sizes. (2 points)"
   ]
  },
  {
   "cell_type": "code",
   "execution_count": 35,
   "metadata": {
    "collapsed": true
   },
   "outputs": [],
   "source": [
    "def trainMod(model,sentences,max_its=10):\n",
    "    # your code to build the vocabulary\n",
    "    scores = []\n",
    "    times = []\n",
    "    for _ in xrange(max_its):\n",
    "        # your code to train the model\n",
    "        model.train(sentences)\n",
    "        scores.append(sum(model.score(sentences)))\n",
    "        times.append(model.total_train_time)\n",
    "    return scores,times"
   ]
  },
  {
   "cell_type": "code",
   "execution_count": 36,
   "metadata": {
    "collapsed": false
   },
   "outputs": [
    {
     "name": "stdout",
     "output_type": "stream",
     "text": [
      "done with 20\n",
      "done with 40\n",
      "done with 100\n"
     ]
    },
    {
     "data": {
      "text/plain": [
       "<matplotlib.text.Text at 0x7fcab15dee50>"
      ]
     },
     "execution_count": 36,
     "metadata": {},
     "output_type": "execute_result"
    },
    {
     "data": {
      "image/png": "[encoded data removed]",
      "text/plain": [
       "<matplotlib.figure.Figure at 0x7fcab2b3e9d0>"
      ]
     },
     "metadata": {},
     "output_type": "display_data"
    }
   ],
   "source": [
    "all_k = [20,40,100] # embedding sizes\n",
    "models = []\n",
    "for k in all_k:\n",
    "    model = gensim.models.Word2Vec(sentences, min_count=10, size=k) #your code to create a model here\n",
    "    models.append(model)\n",
    "    scores,times = trainMod(model,sentences)\n",
    "    plt.plot(times,scores,'o-');\n",
    "    model.save('model-%d'%(k))\n",
    "    print 'done with',k\n",
    "plt.legend(['k=%d'%(k) for k in all_k],loc='lower right');\n",
    "plt.xlabel('time')\n",
    "plt.ylabel('log likelihood')"
   ]
  },
  {
   "cell_type": "markdown",
   "metadata": {},
   "source": [
    "**Deliverable 6d** Use the ```most_similar``` function to find similar words to the items in your word_list which are in the vocabulary for your word2vec models. Compare these most similar words with the outputs of the methods tried earlier in the assignment. You may train the word2vec models for longer if you wish, or change any of the parameters. (2 points)"
   ]
  },
  {
   "cell_type": "code",
   "execution_count": 37,
   "metadata": {
    "collapsed": false,
    "scrolled": true
   },
   "outputs": [
    {
     "name": "stdout",
     "output_type": "stream",
     "text": [
      "k= 20\n",
      "coffee : [('Taiwan', 0.7958792448043823), ('Wireless', 0.7918726205825806), ('malaria', 0.780410885810852), ('Lanka', 0.7728040218353271), ('Bulgaria', 0.7617757320404053), ('tobacco', 0.7575591206550598), ('vegetables', 0.7532111406326294), ('corn', 0.7470266819000244), ('Herat', 0.74656081199646), ('timber', 0.7395137548446655)]   \n",
      "\n",
      "play : [('series', 0.814768373966217), ('match', 0.8064485192298889), ('prize', 0.7955950498580933), ('title', 0.7895134687423706), ('publishing', 0.7826794385910034), ('Ashes', 0.7821651101112366), ('tournament', 0.7790948152542114), ('obituary', 0.7631993889808655), ('played', 0.7575876712799072), ('Poirot', 0.7538279294967651)]   \n",
      "\n",
      "computer : [('device', 0.8768742084503174), ('digital', 0.8441665172576904), ('video', 0.8429996967315674), ('software', 0.835493266582489), ('operating', 0.8238778114318848), ('computers', 0.8059135675430298), ('setting', 0.8002673983573914), ('encoding', 0.7911180257797241), ('graphics', 0.7854411602020264), ('online', 0.7844991087913513)]   \n",
      "\n",
      "science : [('fiction', 0.830358624458313), ('archaeology', 0.8115688562393188), ('philosophical', 0.8089278340339661), ('metaphysical', 0.8003947734832764), ('Bach', 0.8002785444259644), ('concepts', 0.7926318645477295), ('conceptual', 0.7906367182731628), ('imagery', 0.7893315553665161), ('agrarianism', 0.7883901000022888), ('mainstream', 0.7814579010009766)]   \n",
      "\n",
      "physics : [('psychology', 0.9006938934326172), ('theoretical', 0.9001275897026062), ('ethics', 0.78456711769104), ('mathematics', 0.7766550779342651), ('science', 0.7726116180419922), ('mechanics', 0.7668485641479492), ('linguistics', 0.7596691846847534), ('sociology', 0.7571589350700378), ('archaeology', 0.7501922845840454), ('ethical', 0.7490352392196655)]   \n",
      "\n",
      "\n",
      "\n",
      "\n",
      "k= 40\n",
      "coffee : [('malaria', 0.6738451719284058), ('tobacco', 0.6733990907669067), ('vegetables', 0.6486682295799255), ('timber', 0.6441667675971985), ('corn', 0.640870213508606), ('potatoes', 0.6261817812919617), ('raw', 0.6226439476013184), ('Taiwan', 0.6158177852630615), ('Lanka', 0.6062631011009216), ('rice', 0.6054402589797974)]   \n",
      "\n",
      "play : [('series', 0.7305195331573486), ('Marple', 0.6745297312736511), ('match', 0.6741989254951477), ('publishing', 0.6584540605545044), ('novel', 0.6568641066551208), ('played', 0.6397168040275574), ('plays', 0.636585533618927), ('Poirot', 0.630850076675415), ('Ashes', 0.629186749458313), ('title', 0.6256369352340698)]   \n",
      "\n",
      "computer : [('video', 0.7436246871948242), ('digital', 0.7396311163902283), ('computers', 0.7314355373382568), ('programming', 0.7255967855453491), ('graphics', 0.7180377840995789), ('interface', 0.7032506465911865), ('software', 0.7007974982261658), ('device', 0.6920803189277649), ('processor', 0.6888123750686646), ('technology', 0.6831920146942139)]   \n",
      "\n",
      "science : [('psychology', 0.7245497703552246), ('fiction', 0.7182079553604126), ('scientific', 0.7070208787918091), ('archaeology', 0.7031823396682739), ('theoretical', 0.6963920593261719), ('alchemy', 0.6869875192642212), ('topic', 0.6781374216079712), ('historical', 0.6780840754508972), ('spirituality', 0.6628594398498535), ('pioneered', 0.6425073146820068)]   \n",
      "\n",
      "physics : [('theoretical', 0.809085488319397), ('mechanics', 0.7378420829772949), ('psychology', 0.7015141248703003), ('mathematics', 0.6989496946334839), ('sciences', 0.6703993082046509), ('ethics', 0.6527222990989685), ('Einstein', 0.6526251435279846), ('relativity', 0.6525771617889404), ('Schr\\xc3\\xb6dinger', 0.644551157951355), ('biology', 0.6283833980560303)]   \n",
      "\n",
      "\n",
      "\n",
      "\n",
      "k= 100\n",
      "coffee : [('tobacco', 0.5553410649299622), ('timber', 0.5436915159225464), ('vegetables', 0.5178430676460266), ('rice', 0.5157457590103149), ('potatoes', 0.49840834736824036), ('malaria', 0.4921170473098755), ('fruits', 0.48390480875968933), ('corn', 0.47276780009269714), ('manure', 0.4561580717563629), ('petroleum', 0.45240479707717896)]   \n",
      "\n",
      "play : [('played', 0.5581350922584534), ('Karpov', 0.5245917439460754), ('Poirot', 0.5183738470077515), ('plays', 0.5026705861091614), ('novel', 0.48235440254211426), ('win', 0.47996985912323), ('Marple', 0.4557644724845886), ('match', 0.4463844299316406), ('tournament', 0.43751102685928345), ('retirement', 0.43676382303237915)]   \n",
      "\n",
      "computer : [('computing', 0.5726771354675293), ('programming', 0.5675442814826965), ('programmer', 0.5454590320587158), ('software', 0.5393569469451904), ('wireless', 0.5174508094787598), ('processor', 0.5117985606193542), ('Computer', 0.5063188672065735), ('graphics', 0.5036603808403015), ('programs', 0.5032244920730591), ('machine', 0.5004247426986694)]   \n",
      "\n",
      "science : [('fiction', 0.5940546989440918), ('archaeology', 0.5462543964385986), ('physics', 0.5333342552185059), ('alternate', 0.4743742346763611), ('mathematics', 0.47082364559173584), ('philosophical', 0.47044384479522705), ('interdisciplinary', 0.4582461714744568), ('chemistry', 0.4547930955886841), ('fantasy', 0.4519202709197998), ('logic', 0.4513832926750183)]   \n",
      "\n",
      "physics : [('theoretical', 0.632990837097168), ('mathematics', 0.5696405172348022), ('chemistry', 0.5597614049911499), ('sciences', 0.5539968609809875), ('science', 0.5333341956138611), ('metaphysics', 0.4907146692276001), ('psychology', 0.48131418228149414), ('Schr\\xc3\\xb6dinger', 0.4695616662502289), ('scientific', 0.4640956223011017), ('Recently', 0.45634907484054565)]   \n",
      "\n",
      "\n",
      "\n",
      "\n"
     ]
    }
   ],
   "source": [
    "# your code here\n",
    "for i,model in enumerate(models):\n",
    "    print \"k=\",all_k[i]\n",
    "    for word in word_list:\n",
    "        if word in model.vocab:\n",
    "            print word,':',model.most_similar(word),'  \\n'\n",
    "        else:\n",
    "            continue\n",
    "    print '\\n\\n'"
   ]
  },
  {
   "cell_type": "markdown",
   "metadata": {},
   "source": [
    "(your explanation here)\n",
    "- As wee see as k increases, the most similar words found makes more and more sense in terms of topic-relativeness, e.g. the word 'Taiwan' ranked No.1 in top 10 most similar words of coffee when k = 20, which dropped to No.8 when k = 40, and out of top 10 when k = 100. This is expected because as you include more and more neighboring, you can get more and more context information.\n",
    "- In general it works better than LSA and Local Context using SVD"
   ]
  },
  {
   "cell_type": "markdown",
   "metadata": {},
   "source": [
    "One of the claims about word2vec word embeddings is that they can solve analogy problems, like \"man:woman::king:queen\"\n",
    "\n",
    "[This tutorial](http://rare-technologies.com/word2vec-tutorial/) contains example code showing how to use word vectors to try to solve analogies.\n",
    "\n",
    "**Deliverable 6e** Using the three models trained in the previous deliverable, see if each can solve the analogies man:woman::king:queen and architect:building::painter:painting. Invent two more analogies, and see which of the three models can solve them. You can Google analogies, but you may have to search for a while to find analogies where all four elements are in the vocabulary. You can also retrain the models with a larger vocabulary if you want. (2 points)"
   ]
  },
  {
   "cell_type": "markdown",
   "metadata": {},
   "source": [
    "### Answer to 6e:\n",
    "- No apparently it does not solve analogies very well, as you can see below"
   ]
  },
  {
   "cell_type": "code",
   "execution_count": 38,
   "metadata": {
    "collapsed": false
   },
   "outputs": [
    {
     "name": "stdout",
     "output_type": "stream",
     "text": [
      "k= 20\n",
      "man:woman::king:? [('mistaken', 0.8264424800872803), ('witness', 0.8144932985305786), ('protagonist', 0.7855388522148132), ('creature', 0.779259204864502), ('impression', 0.7787606716156006), ('boy', 0.7532042860984802), ('dinner', 0.7517200112342834), ('good', 0.7417856454849243), ('chance', 0.7412746548652649), ('opportunity', 0.7382452487945557)] \n",
      "\n",
      "architect:building::painter:? [('system', 0.7445379495620728), ('monument', 0.725237250328064), ('road', 0.7185670137405396), ('sport', 0.7180393934249878), ('harbour', 0.7033640146255493), ('diocese', 0.6924789547920227), ('central', 0.6686609983444214), ('Chaco', 0.6672202348709106), ('hub', 0.6605966091156006), ('Much', 0.6603871583938599)] \n",
      "\n",
      "science:physics::planet:? [('theoretical', 0.8495887517929077), ('mysticism', 0.834299623966217), ('psychology', 0.833200216293335), ('archaeology', 0.788750946521759), ('entities', 0.7664759159088135), ('philosophical', 0.7614248991012573), ('sociology', 0.7585877180099487), ('exploring', 0.7548397779464722), ('scientific', 0.7495036125183105), ('racism', 0.749194860458374)] \n",
      "\n",
      "Google:searching::computer:? [('mad', 0.6590766310691833), ('wrestling', 0.6559967398643494), ('recognised', 0.6430768966674805), ('police', 0.642218291759491), ('crimes', 0.6314494609832764), ('athletes', 0.6271253824234009), ('occasional', 0.6177042722702026), ('lengthy', 0.6171760559082031), ('husband', 0.6140956878662109), ('operators', 0.6069259643554688)] \n",
      "\n",
      "\n",
      "\n",
      "\n",
      "k= 40\n",
      "man:woman::king:? [('good', 0.6666606664657593), ('person', 0.6576420068740845), ('happy', 0.6447070837020874), ('mankind', 0.6083214282989502), ('young', 0.6080859899520874), ('fellow', 0.6077109575271606), ('everyone', 0.6056087017059326), ('mental', 0.6047636270523071), ('mere', 0.6015549898147583), ('witness', 0.5826743245124817)] \n",
      "\n",
      "architect:building::painter:? [('Piraeus', 0.6683154106140137), ('monument', 0.6302096843719482), ('center', 0.6035360097885132), ('road', 0.6011974215507507), ('network', 0.5953367352485657), ('system', 0.5822432041168213), ('seating', 0.5655854940414429), ('accessible', 0.5626335144042969), ('harbour', 0.562239408493042), ('suburb', 0.5622255802154541)] \n",
      "\n",
      "science:physics::planet:? [('theoretical', 0.7611817121505737), ('psychology', 0.749051034450531), ('scientific', 0.7194321155548096), ('mathematics', 0.6650335788726807), ('archaeology', 0.6543601751327515), ('spirituality', 0.641157865524292), ('pacifist', 0.6330896615982056), ('ethics', 0.6230440139770508), ('optics', 0.618963897228241), ('medicine', 0.6175971031188965)] \n",
      "\n",
      "Google:searching::computer:? [('husband', 0.5538033246994019), ('declining', 0.545820415019989), ('disease', 0.5396980047225952), ('Troilus', 0.5343271493911743), ('illnesses', 0.5268625020980835), ('homosexual', 0.52660071849823), ('crimes', 0.5240411758422852), ('perennial', 0.5212334394454956), ('marriage', 0.520577073097229), ('tutor', 0.517112672328949)] \n",
      "\n",
      "\n",
      "\n",
      "\n",
      "k= 100\n",
      "man:woman::king:? [('person', 0.5274547338485718), ('young', 0.49952954053878784), ('witness', 0.48073500394821167), ('traveler', 0.4119645357131958), ('creative', 0.391929030418396), ('child', 0.3915501832962036), ('receive', 0.38720422983169556), ('women', 0.3851044476032257), ('everyone', 0.37994569540023804), ('go', 0.37028077244758606)] \n",
      "\n",
      "architect:building::painter:? [('accessible', 0.45595937967300415), ('hub', 0.43671005964279175), ('neighbourhoods', 0.410439670085907), ('housing', 0.40319138765335083), ('built', 0.39380335807800293), ('designed', 0.3937843143939972), ('monument', 0.3821049928665161), ('municipal', 0.3816361427307129), ('system', 0.38106125593185425), ('road', 0.37877753376960754)] \n",
      "\n",
      "science:physics::planet:? [('archaeology', 0.5733174085617065), ('mathematics', 0.5697726011276245), ('psychology', 0.5242676138877869), ('chemistry', 0.49999478459358215), ('analytical', 0.49883130192756653), ('medicine', 0.4866078495979309), ('mysticism', 0.48118120431900024), ('sciences', 0.4800446033477783), ('logic', 0.46428146958351135), ('scientific', 0.4607617259025574)] \n",
      "\n",
      "Google:searching::computer:? [('husband', 0.38801124691963196), ('controversial', 0.36533141136169434), ('Herodotus', 0.3614000678062439), ('murdered', 0.3581153452396393), ('conceived', 0.35589510202407837), ('Martina', 0.35376256704330444), ('investigated', 0.35309189558029175), ('mistaken', 0.35001248121261597), ('claimed', 0.3351666331291199), ('Marcus', 0.3346535563468933)] \n",
      "\n",
      "\n",
      "\n",
      "\n"
     ]
    }
   ],
   "source": [
    "# your code here\n",
    "analogies = [ [['man','woman'],['king','queen']],\\\n",
    "      [['architect','building'],['painter','building']],\\\n",
    "      [['science','physics'],['planet','earth']],\\\n",
    "      [['Google','searching'],['computer','programming']] ]\n",
    "\n",
    "for model in models:\n",
    "    for a in analogies:\n",
    "        for aa in a:\n",
    "            assert aa[0] in model.vocab and aa[1] in model.vocab\n",
    "    \n",
    "for i,model in enumerate(models):\n",
    "    print 'k=',all_k[i]\n",
    "    for a in analogies:\n",
    "        print a[0][0]+':'+a[0][1]+'::'+a[1][0]+':?',model.most_similar(positive = a[0],negative=[a[1][0]]),'\\n'\n",
    "    print '\\n\\n'\n",
    "        "
   ]
  },
  {
   "cell_type": "markdown",
   "metadata": {},
   "source": [
    "# 7. Semi-supervised learning #\n",
    "\n",
    "Now you will use the word embeddings to try to improve your dependency parser from problem set 5.\n",
    "\n",
    "You will do this by clustering words according to their embedding.\n",
    "\n",
    "The code below run the clustering algorithm."
   ]
  },
  {
   "cell_type": "code",
   "execution_count": 39,
   "metadata": {
    "collapsed": true
   },
   "outputs": [],
   "source": [
    "from scipy.cluster.vq import kmeans2"
   ]
  },
  {
   "cell_type": "code",
   "execution_count": 40,
   "metadata": {
    "collapsed": false,
    "scrolled": true
   },
   "outputs": [
    {
     "name": "stdout",
     "output_type": "stream",
     "text": [
      "[[-0.19364186  0.16652703 -0.25888926 ...,  0.11673918  0.14041518\n",
      "  -0.00139467]\n",
      " [-0.01532788  0.10720755 -0.09630613 ...,  0.14305694  0.02934444\n",
      "   0.19374132]\n",
      " [ 0.04454674 -0.03849955 -0.22258388 ...,  0.29765904 -0.03476687\n",
      "  -0.17534447]\n",
      " ..., \n",
      " [-0.0088204  -0.17319834 -0.14212954 ...,  0.21196616 -0.15688029\n",
      "   0.12473287]\n",
      " [-0.14776917 -0.13528498  0.11059188 ...,  0.11769114  0.29699549\n",
      "   0.14274129]\n",
      " [-0.09311409 -0.27388129  0.01792685 ...,  0.13583224  0.0908053\n",
      "   0.10175414]] [ 11  11  11 ..., 192 170   3]\n"
     ]
    }
   ],
   "source": [
    "# choose a model to use here\n",
    "model = models[-1]\n",
    "word_vectors = model.syn0\n",
    "# run the clustering algorithm\n",
    "num_clusters = 200\n",
    "centroids, labels = kmeans2(word_vectors,num_clusters,iter=200,minit='points')\n",
    "print centroids, labels"
   ]
  },
  {
   "cell_type": "markdown",
   "metadata": {},
   "source": [
    "**Deliverable 7a** Modify the code below to show the words in the same cluster as a query word. Find the words in the same cluster as \"coffee\", \"computer\", and \"red\" for at least one of your models, plus any other words of interest. (3 points)"
   ]
  },
  {
   "cell_type": "code",
   "execution_count": 41,
   "metadata": {
    "collapsed": true
   },
   "outputs": [],
   "source": [
    "def getWordsInSameCluster(word,model,labels):\n",
    "    # you will use model.index2word to make this function\n",
    "    # return a list of words in the same cluster as word\n",
    "    words2idx = {word:idx for idx,word in enumerate(model.index2word)}\n",
    "    c = []\n",
    "    idx = words2idx[word]\n",
    "    for i in np.where(labels == labels[idx])[0]:\n",
    "        c.append(model.index2word[i])\n",
    "    return c"
   ]
  },
  {
   "cell_type": "code",
   "execution_count": 42,
   "metadata": {
    "collapsed": false
   },
   "outputs": [
    {
     "name": "stdout",
     "output_type": "stream",
     "text": [
      "['animals', 'contain', 'algae', 'almond', 'red', 'almonds', 'trees', 'green', 'diseases', 'wild', 'bacteria', 'meat', 'wine', 'seeds', 'marine', 'toxic', 'sweet', 'cattle', 'dogs', 'milk', 'aromatic', 'lineage', 'domesticated', 'environments', 'sheep', 'horses', 'herbs', 'oils', 'vegetables', 'foods', 'comprise', 'fruits', 'coffee', 'poisonous', 'manure', 'olive', 'corn', 'bread', 'Specific', 'beds', 'dried', 'flour', 'goats', 'brown', 'wool', 'malaria', 'grains', 'honey', 'cows', 'fiber', 'freshwater', 'Algae', 'algal', 'edible', 'shallow', 'potatoes', 'Almonds', 'incense', 'purple', 'gravel', 'mined', 'warmth'] \n",
      "\n",
      "['computer', 'design', 'devices', 'device', 'featured', 'video', 'Newton', 'software', 'digital', 'X', 'setting', 'recognition', 'display', 'computers', 'featuring', 'operating', 'user', 'screen', 'users', 'track', 'alongside', 'online', 'hardware', 'Computer', 'format', 'platform', 'audio', 'cards', 'Atari', 'vector', 'Internet', 'graphics', 'library', 'mobile', 'selling', 'retail', 'Final', 'fans', 'DVD', 'electronics', 'website', 'Microsoft', 'updated', 'purchase', 'phone', 'package', 'firm', 'handwriting', '3D', 'interface', 'option', 'processor', 'AT', 'portable', 'channel', 'upgraded', 'platforms', 'CD', 'Pro', 'wireless', 'tablet', 'Wireless', 'Google', 'delivering'] \n",
      "\n",
      "['animals', 'contain', 'algae', 'almond', 'red', 'almonds', 'trees', 'green', 'diseases', 'wild', 'bacteria', 'meat', 'wine', 'seeds', 'marine', 'toxic', 'sweet', 'cattle', 'dogs', 'milk', 'aromatic', 'lineage', 'domesticated', 'environments', 'sheep', 'horses', 'herbs', 'oils', 'vegetables', 'foods', 'comprise', 'fruits', 'coffee', 'poisonous', 'manure', 'olive', 'corn', 'bread', 'Specific', 'beds', 'dried', 'flour', 'goats', 'brown', 'wool', 'malaria', 'grains', 'honey', 'cows', 'fiber', 'freshwater', 'Algae', 'algal', 'edible', 'shallow', 'potatoes', 'Almonds', 'incense', 'purple', 'gravel', 'mined', 'warmth'] \n",
      "\n",
      "['computer', 'design', 'devices', 'device', 'featured', 'video', 'Newton', 'software', 'digital', 'X', 'setting', 'recognition', 'display', 'computers', 'featuring', 'operating', 'user', 'screen', 'users', 'track', 'alongside', 'online', 'hardware', 'Computer', 'format', 'platform', 'audio', 'cards', 'Atari', 'vector', 'Internet', 'graphics', 'library', 'mobile', 'selling', 'retail', 'Final', 'fans', 'DVD', 'electronics', 'website', 'Microsoft', 'updated', 'purchase', 'phone', 'package', 'firm', 'handwriting', '3D', 'interface', 'option', 'processor', 'AT', 'portable', 'channel', 'upgraded', 'platforms', 'CD', 'Pro', 'wireless', 'tablet', 'Wireless', 'Google', 'delivering'] \n",
      "\n"
     ]
    }
   ],
   "source": [
    "print getWordsInSameCluster('coffee',model,labels),'\\n'\n",
    "print getWordsInSameCluster('computer',model,labels),'\\n'\n",
    "print getWordsInSameCluster('red',model,labels),'\\n'\n",
    "print getWordsInSameCluster('Google',model,labels),'\\n'"
   ]
  },
  {
   "cell_type": "markdown",
   "metadata": {},
   "source": [
    "## Improving dependency parsing ##\n",
    "\n",
    "Now incorporate these cluster features into your best performing parser from project 5, based on the dev data. Add a feature for each cluster/tag pair, e.g., C175/N, C189/V, etc. You will then compute the accuracy with training sets of various sizes, comparing the performance of your model with and without the cluster features.\n",
    "\n",
    "**Deliverable 7b ** Build training sets including the first 50, 100, 200, 500, and 1000 *sentences* (not words). \n",
    "Train your tagger on each training set, using your original features, and plot the accuracy on the development set. \n",
    "Then retrain you tagger, including the new word cluster features, and plot accuracy on the development set on the same plot. \n",
    "Run for at least 10 iterations in each case.\n",
    "\n",
    "You may want to try larger numbers of clusters to improve performance. \n",
    "\n",
    "You can even include the results from multiple clusterings with different numbers of clusters (50, 100, 200, 500, ...), \n",
    "using features like C43-50/N (cluster 43 of 50, with tag N), C377-500/V (cluster 377 of 500, with tag V).\n",
    "\n",
    "You can also use clusters for the features of neighboring words.  (6 points)"
   ]
  },
  {
   "cell_type": "code",
   "execution_count": 43,
   "metadata": {
    "collapsed": false
   },
   "outputs": [],
   "source": [
    "# your code here\n",
    "from os.path import join\n",
    "import gtparsing\n",
    "import gtparsing.dependency_parser as depp\n",
    "import gtparsing.dependency_features as depf\n",
    "import gtparsing.custom_features\n",
    "import gtparsing.utilities\n",
    "from score import accuracy"
   ]
  },
  {
   "cell_type": "code",
   "execution_count": 44,
   "metadata": {
    "collapsed": false,
    "scrolled": true
   },
   "outputs": [
    {
     "name": "stdout",
     "output_type": "stream",
     "text": [
      "gtparsing/../data/deppars\n",
      "Number of sentences: 50\n",
      "Number of tokens: 461\n",
      "Number of words: 278\n",
      "Number of pos: 34\n",
      "Number of features: 1647\n",
      "Epoch 1 Train: 0.416 Dev: 0.490\n",
      "Epoch 2 Train: 0.755 Dev: 0.580\n",
      "Epoch 3 Train: 0.861 Dev: 0.608\n",
      "Epoch 4 Train: 0.898 Dev: 0.621\n",
      "Epoch 5 Train: 0.937 Dev: 0.626\n",
      "Epoch 6 Train: 0.961 Dev: 0.629\n",
      "Epoch 7 Train: 0.976 Dev: 0.633\n",
      "Epoch 8 Train: 0.963 Dev: 0.636\n",
      "Epoch 9 Train: 0.991 Dev: 0.636\n",
      "Epoch 10 Train: 0.998 Dev: 0.639\n",
      "gtparsing/../data/deppars\n",
      "Number of sentences: 100\n",
      "Number of tokens: 975\n",
      "Number of words: 524\n",
      "Number of pos: 37\n",
      "Number of features: 2910\n",
      "Epoch 1 Train: 0.472 Dev: 0.503\n",
      "Epoch 2 Train: 0.785 Dev: 0.563\n",
      "Epoch 3 Train: 0.857 Dev: 0.592\n",
      "Epoch 4 Train: 0.885 Dev: 0.609\n",
      "Epoch 5 Train: 0.933 Dev: 0.611\n",
      "Epoch 6 Train: 0.949 Dev: 0.615\n",
      "Epoch 7 Train: 0.950 Dev: 0.617\n",
      "Epoch 8 Train: 0.968 Dev: 0.623\n",
      "Epoch 9 Train: 0.972 Dev: 0.629\n",
      "Epoch 10 Train: 0.982 Dev: 0.629\n",
      "gtparsing/../data/deppars\n",
      "Number of sentences: 200\n",
      "Number of tokens: 1873\n",
      "Number of words: 887\n",
      "Number of pos: 41\n",
      "Number of features: 4799\n",
      "Epoch 1 Train: 0.533 Dev: 0.542\n",
      "Epoch 2 Train: 0.779 Dev: 0.582\n",
      "Epoch 3 Train: 0.853 Dev: 0.641\n",
      "Epoch 4 Train: 0.901 Dev: 0.661\n",
      "Epoch 5 Train: 0.916 Dev: 0.669\n",
      "Epoch 6 Train: 0.920 Dev: 0.685\n",
      "Epoch 7 Train: 0.946 Dev: 0.690\n",
      "Epoch 8 Train: 0.960 Dev: 0.684\n",
      "Epoch 9 Train: 0.966 Dev: 0.689\n",
      "Epoch 10 Train: 0.967 Dev: 0.690\n",
      "gtparsing/../data/deppars\n",
      "Number of sentences: 500\n",
      "Number of tokens: 4933\n",
      "Number of words: 1890\n",
      "Number of pos: 44\n",
      "Number of features: 9899\n",
      "Epoch 1 Train: 0.593 Dev: 0.712\n",
      "Epoch 2 Train: 0.787 Dev: 0.683\n",
      "Epoch 3 Train: 0.842 Dev: 0.741\n",
      "Epoch 4 Train: 0.875 Dev: 0.753\n",
      "Epoch 5 Train: 0.897 Dev: 0.758\n",
      "Epoch 6 Train: 0.930 Dev: 0.764\n",
      "Epoch 7 Train: 0.934 Dev: 0.764\n",
      "Epoch 8 Train: 0.942 Dev: 0.765\n",
      "Epoch 9 Train: 0.948 Dev: 0.765\n",
      "Epoch 10 Train: 0.953 Dev: 0.767\n",
      "gtparsing/../data/deppars\n",
      "Number of sentences: 1000\n",
      "Number of tokens: 9871\n",
      "Number of words: 3105\n",
      "Number of pos: 45\n",
      "Number of features: 16244\n",
      "Epoch 1 Train: 0.642 Dev: 0.667\n",
      "Epoch 2 Train: 0.772 Dev: 0.704\n",
      "Epoch 3 Train: 0.831 Dev: 0.734\n",
      "Epoch 4 Train: 0.864 Dev: 0.749\n",
      "Epoch 5 Train: 0.887 Dev: 0.751\n",
      "Epoch 6 Train: 0.900 Dev: 0.761\n",
      "Epoch 7 Train: 0.919 Dev: 0.766\n",
      "Epoch 8 Train: 0.923 Dev: 0.771\n",
      "Epoch 9 Train: 0.941 Dev: 0.775\n",
      "Epoch 10 Train: 0.945 Dev: 0.778\n",
      "gtparsing/../data/deppars\n",
      "Number of sentences: 50\n",
      "Number of tokens: 461\n",
      "Number of words: 278\n",
      "Number of pos: 34\n",
      "Number of features: 1989\n",
      "Epoch 1 Train: 0.416 Dev: 0.475\n",
      "Epoch 2 Train: 0.755 Dev: 0.578\n",
      "Epoch 3 Train: 0.892 Dev: 0.609\n",
      "Epoch 4 Train: 0.952 Dev: 0.617\n",
      "Epoch 5 Train: 0.970 Dev: 0.622\n",
      "Epoch 6 Train: 0.980 Dev: 0.629\n",
      "Epoch 7 Train: 0.987 Dev: 0.629\n",
      "Epoch 8 Train: 0.993 Dev: 0.631\n",
      "Epoch 9 Train: 0.996 Dev: 0.631\n",
      "Epoch 10 Train: 0.996 Dev: 0.632\n",
      "gtparsing/../data/deppars\n",
      "Number of sentences: 100\n",
      "Number of tokens: 975\n",
      "Number of words: 524\n",
      "Number of pos: 37\n",
      "Number of features: 3558\n",
      "Epoch 1 Train: 0.484 Dev: 0.559\n",
      "Epoch 2 Train: 0.788 Dev: 0.597\n",
      "Epoch 3 Train: 0.871 Dev: 0.621\n",
      "Epoch 4 Train: 0.912 Dev: 0.620\n",
      "Epoch 5 Train: 0.941 Dev: 0.637\n",
      "Epoch 6 Train: 0.941 Dev: 0.641\n",
      "Epoch 7 Train: 0.965 Dev: 0.644\n",
      "Epoch 8 Train: 0.974 Dev: 0.652\n",
      "Epoch 9 Train: 0.967 Dev: 0.657\n",
      "Epoch 10 Train: 0.979 Dev: 0.658\n",
      "gtparsing/../data/deppars\n",
      "Number of sentences: 200\n",
      "Number of tokens: 1873\n",
      "Number of words: 887\n",
      "Number of pos: 41\n",
      "Number of features: 5893\n",
      "Epoch 1 Train: 0.539 Dev: 0.544\n",
      "Epoch 2 Train: 0.796 Dev: 0.614\n",
      "Epoch 3 Train: 0.874 Dev: 0.651\n",
      "Epoch 4 Train: 0.905 Dev: 0.659\n",
      "Epoch 5 Train: 0.930 Dev: 0.673\n",
      "Epoch 6 Train: 0.962 Dev: 0.670\n",
      "Epoch 7 Train: 0.957 Dev: 0.675\n",
      "Epoch 8 Train: 0.955 Dev: 0.676\n",
      "Epoch 9 Train: 0.961 Dev: 0.680\n",
      "Epoch 10 Train: 0.959 Dev: 0.677\n",
      "gtparsing/../data/deppars\n",
      "Number of sentences: 500\n",
      "Number of tokens: 4933\n",
      "Number of words: 1890\n",
      "Number of pos: 44\n",
      "Number of features: 12298\n",
      "Epoch 1 Train: 0.597 Dev: 0.663\n",
      "Epoch 2 Train: 0.796 Dev: 0.704\n",
      "Epoch 3 Train: 0.859 Dev: 0.731\n",
      "Epoch 4 Train: 0.895 Dev: 0.747\n",
      "Epoch 5 Train: 0.919 Dev: 0.752\n",
      "Epoch 6 Train: 0.929 Dev: 0.755\n",
      "Epoch 7 Train: 0.950 Dev: 0.757\n",
      "Epoch 8 Train: 0.957 Dev: 0.759\n",
      "Epoch 9 Train: 0.971 Dev: 0.760\n",
      "Epoch 10 Train: 0.971 Dev: 0.760\n",
      "gtparsing/../data/deppars\n",
      "Number of sentences: 1000\n",
      "Number of tokens: 9871\n",
      "Number of words: 3105\n",
      "Number of pos: 45\n",
      "Number of features: 20278\n",
      "Epoch 1 Train: 0.639 Dev: 0.721\n",
      "Epoch 2 Train: 0.787 Dev: 0.746\n",
      "Epoch 3 Train: 0.848 Dev: 0.761\n",
      "Epoch 4 Train: 0.879 Dev: 0.765\n",
      "Epoch 5 Train: 0.906 Dev: 0.765\n",
      "Epoch 6 Train: 0.912 Dev: 0.766\n",
      "Epoch 7 Train: 0.927 Dev: 0.769\n",
      "Epoch 8 Train: 0.939 Dev: 0.772\n",
      "Epoch 9 Train: 0.941 Dev: 0.776\n",
      "Epoch 10 Train: 0.952 Dev: 0.775\n"
     ]
    }
   ],
   "source": [
    "reload(gtparsing)\n",
    "reload(depp)\n",
    "reload(depp)\n",
    "reload(gtparsing)\n",
    "reload(gtparsing.custom_features)\n",
    "reload(gtparsing.dependency_reader)\n",
    "\n",
    "from gtparsing.custom_features import ContextFeats\n",
    "num_insts = [50,100,200,500,1000]\n",
    "\n",
    "dv_accs_cf = []\n",
    "for n_sents in num_insts:\n",
    "    dp = depp.DependencyParser(feature_function=ContextFeats())\n",
    "    dp.read_data(\"english\",n_sents)\n",
    "    tr_acc, dv_acc = dp.train_perceptron(10) \n",
    "    dv_accs_cf.append(dv_acc)\n",
    "\n",
    "dv_accs_w2v = []\n",
    "# choose a model to use here: use the model with word embedding size 100\n",
    "model = models[-1]\n",
    "word_vectors = model.syn0\n",
    "# run the clustering algorithm\n",
    "num_clusters = 500\n",
    "centroids, labels = kmeans2(word_vectors,num_clusters,iter=200,minit='points')\n",
    "for n_sents in num_insts:\n",
    "    words2idx = {word:idx for idx,word in enumerate(model.index2word)}\n",
    "    dp = depp.DependencyParser(feature_function=gtparsing.custom_features.W2V_ClusterFeats(words2idx, labels))\n",
    "    dp.read_data(\"english\",n_sents)\n",
    "    tr_acc ,dv_acc  = dp.train_perceptron(10) \n",
    "    dv_accs_w2v.append(dv_acc)\n",
    "    \n"
   ]
  },
  {
   "cell_type": "code",
   "execution_count": 45,
   "metadata": {
    "collapsed": false
   },
   "outputs": [
    {
     "name": "stdout",
     "output_type": "stream",
     "text": [
      "[0.6387466721277902, 0.6291214417366373, 0.6903542903952489, 0.7669465492525087, 0.7775957403235716]\n",
      "[0.631578947368421, 0.6582019250460782, 0.6770428015564203, 0.7601884087651034, 0.7749334425558059]\n"
     ]
    }
   ],
   "source": [
    "print dv_accs_cf\n",
    "print dv_accs_w2v"
   ]
  },
  {
   "cell_type": "code",
   "execution_count": 46,
   "metadata": {
    "collapsed": false
   },
   "outputs": [
    {
     "data": {
      "text/plain": [
       "<matplotlib.text.Text at 0x7fcab1340350>"
      ]
     },
     "execution_count": 46,
     "metadata": {},
     "output_type": "execute_result"
    },
    {
     "data": {
      "image/png": "[encoded data removed]",
      "text/plain": [
       "<matplotlib.figure.Figure at 0x7fcab11f4110>"
      ]
     },
     "metadata": {},
     "output_type": "display_data"
    }
   ],
   "source": [
    "plt.clf()\n",
    "plt.plot(num_insts, dv_accs_cf,'o-',label = 'ContextFeats')\n",
    "plt.plot(num_insts,dv_accs_w2v,'o-',label='W2V_ClusterFeats')\n",
    "plt.legend(loc='lower right')\n",
    "plt.xlabel('number of sentences')\n",
    "plt.ylabel('dev accuracy')"
   ]
  },
  {
   "cell_type": "code",
   "execution_count": 47,
   "metadata": {
    "collapsed": false,
    "scrolled": false
   },
   "outputs": [
    {
     "name": "stdout",
     "output_type": "stream",
     "text": [
      "gtparsing/../data/deppars\n",
      "Number of sentences: 100\n",
      "Number of tokens: 975\n",
      "Number of words: 524\n",
      "Number of pos: 37\n",
      "Number of features: 3507\n",
      "Epoch 1 Train: 0.481 Dev: 0.514\n",
      "Epoch 2 Train: 0.789 Dev: 0.609\n",
      "Epoch 3 Train: 0.885 Dev: 0.635\n",
      "Epoch 4 Train: 0.920 Dev: 0.643\n",
      "Epoch 5 Train: 0.944 Dev: 0.647\n",
      "Epoch 6 Train: 0.961 Dev: 0.652\n",
      "Epoch 7 Train: 0.966 Dev: 0.656\n",
      "Epoch 8 Train: 0.953 Dev: 0.660\n",
      "Epoch 9 Train: 0.973 Dev: 0.662\n",
      "Epoch 10 Train: 0.979 Dev: 0.665\n"
     ]
    }
   ],
   "source": [
    "# choose a model to use here\n",
    "model = models[-1]\n",
    "word_vectors = model.syn0\n",
    "# run the clustering algorithm\n",
    "num_clusters = 100\n",
    "centroids, labels = kmeans2(word_vectors,num_clusters,iter=100,minit='points')\n",
    "#print centroids, labels\n",
    "\n",
    "words2idx = {word:idx for idx,word in enumerate(model.index2word)}\n",
    "dp = depp.DependencyParser(feature_function=gtparsing.custom_features.W2V_ClusterFeats(words2idx, labels))\n",
    "dp.read_data(\"english\",100)\n",
    "tr_acc ,dv_acc  = dp.train_perceptron(10) "
   ]
  },
  {
   "cell_type": "markdown",
   "metadata": {
    "collapsed": true
   },
   "source": [
    "## 8. Get creative ##\n",
    "\n",
    "This part is mandatory for 7650 and optional for 4650.\n",
    "\n",
    "**Deliverable 8 ** K-means clustering is one way to find similarity. This part is opened-ended and requires you to come up with creative solutions of using distributed vectors to improve the results. In addition to implementing your idea, provide explanation of what you did, and why you thought it should work.\n",
    "\n",
    "The top 3 selected ideas (based mostly on performance, but also on creativity) will get an extra point towards their final score.(5 points)"
   ]
  },
  {
   "cell_type": "markdown",
   "metadata": {
    "collapsed": true
   },
   "source": [
    "#### idea: instead of using svd, we can try non-negative matrix factorizatoin\n",
    "- Non-negative matrix factorization is to factorize full matrix $V$ as $V \\approx WH$, where $W$ and $H$ are two low rank matrices with non-negative elements. Since their elements are non-negative, it's more natural to transform them as probability models by normalization. \n",
    "- Here I use the module ```NMF``` in library ```sklearn.decomposition``` \n",
    "- I don't see significant improvement on word similarity"
   ]
  },
  {
   "cell_type": "code",
   "execution_count": 52,
   "metadata": {
    "collapsed": false
   },
   "outputs": [],
   "source": [
    "from sklearn.decomposition import NMF"
   ]
  },
  {
   "cell_type": "code",
   "execution_count": 53,
   "metadata": {
    "collapsed": false
   },
   "outputs": [
    {
     "data": {
      "text/plain": [
       "<9993x9993 sparse matrix of type '<type 'numpy.float64'>'\n",
       "\twith 8810954 stored elements in Compressed Sparse Row format>"
      ]
     },
     "execution_count": 53,
     "metadata": {},
     "output_type": "execute_result"
    }
   ],
   "source": [
    "Dfp"
   ]
  },
  {
   "cell_type": "code",
   "execution_count": 67,
   "metadata": {
    "collapsed": false
   },
   "outputs": [
    {
     "name": "stdout",
     "output_type": "stream",
     "text": [
      "coffee : coffee ordered complete different perfectly turning scary six dramatic apparently \n",
      "play : play seeing bands animals they on suits order smack ashley \n",
      "crazy : crazy now usually yesterday worked more still i'm will to \n",
      "facebook : facebook anime natural vodka rihanna twerk instagram goodbye 42 pizza \n",
      "hermana : hermana abuela seleccion durmiendo profe clases primera recien huevo fuego \n",
      "computer : computer eating daughter act faced body naked guarantee arm blow \n",
      "google : google eff tom apps perfection jackie delicious goo may wow \n",
      "science : science red rose modern stretch record lewis stephen passes tax \n",
      "math : math mixed childish nonsense ruined dammit complaining quickly bitching screwed \n",
      "physics : physics cocaine beyonce blunts spit ran mexican accent teacher wrist \n"
     ]
    }
   ],
   "source": [
    "k = 10\n",
    "decomp10 = NMF(n_components = k, init='random',random_state=0)\n",
    "W10 = decomp10.fit_transform(Dfp)\n",
    "printSimilarWords(W10, word_list, sim_func=lambda word_idx, W10 : -computeEuclidDist(word_idx,W10))"
   ]
  },
  {
   "cell_type": "code",
   "execution_count": 68,
   "metadata": {
    "collapsed": false
   },
   "outputs": [
    {
     "name": "stdout",
     "output_type": "stream",
     "text": [
      "coffee : coffee reading watching packed laundry oil fresh bottles burnt tops \n",
      "play : play still her michael star brian curling raise ability rose \n",
      "crazy : crazy gives using drug from kinda attention questions nut thinking \n",
      "facebook : facebook twitter tv train screen turn hooked posts move roller \n",
      "hermana : hermana salir buscar empezar calle llegar durmiendo jamas cabeza pedazo \n",
      "computer : computer loose pictures plate switch moon bite body beside money \n",
      "google : google holy distance z fck handle exist seems material highly \n",
      "science : science runs 2 flying market 1st 5 seconds christmas drawing \n",
      "math : math constant ends target #fb exercise fear comfortable drops sets \n",
      "physics : physics dragon bottle got outfit spend graduated wearing pass panic \n"
     ]
    }
   ],
   "source": [
    "k = 50\n",
    "decomp50 = NMF(n_components = k, init='random',random_state=0)\n",
    "W50 = decomp50.fit_transform(Dfp)\n",
    "printSimilarWords(W50, word_list, sim_func=lambda word_idx, W50 : -computeEuclidDist(word_idx,W50))"
   ]
  }
 ],
 "metadata": {
  "kernelspec": {
   "display_name": "Python 2",
   "language": "python",
   "name": "python2"
  },
  "language_info": {
   "codemirror_mode": {
    "name": "ipython",
    "version": 2
   },
   "file_extension": ".py",
   "mimetype": "text/x-python",
   "name": "python",
   "nbconvert_exporter": "python",
   "pygments_lexer": "ipython2",
   "version": "2.7.10"
  }
 },
 "nbformat": 4,
 "nbformat_minor": 0
}
