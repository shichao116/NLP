{
 "cells": [
  {
   "cell_type": "markdown",
   "metadata": {},
   "source": [
    "Problem Set 4: Sequence labeling\n",
    "=====================\n",
    "\n",
    "This project focuses on sequence labeling, in the target domain of Twitter part-of-speech tagging.\n",
    "Part (b) focuses on *discriminative* approaches, mainly averaged perceptron and structured perceptron.\n"
   ]
  },
  {
   "cell_type": "markdown",
   "metadata": {},
   "source": [
    "###Submission guidelines:###\n",
    "\n",
    "Here are some submission guidelines for the problem set submission on t-square. Please try to adhere to them as it makes grading simpler.\n",
    "\n",
    "* Submit these 3 things on tsquare: \n",
    "\n",
    "   * compressed gtnlplib folder containing all your code. Please don't attach all python files separately to t-square. \n",
    "    \n",
    "   * pset4.ipynb to present all your explanation answers and results.\n",
    "    \n",
    "   * There will be multiple response files that will be generated throughout the assignment. 4 for your normal models on dev data and 1 for bake off on test data. Use createSubmission.sh script to compress these files and submit the generated response_files.tar on Tsquare.\n",
    "\n",
    "\n",
    "   * For 'Error Analysis' part write your answers in the notebook only. If you want to point to any code/functions that you have written separately, please point the location of code in the notebook file.\n",
    "\n",
    "* Please don't modify any of the relative paths to data. You can copy the 'data' folder according to the given relatove path in the 'gtnlplib/constants.py' while working through the assignment."
   ]
  },
  {
   "cell_type": "code",
   "execution_count": 1,
   "metadata": {
    "collapsed": false
   },
   "outputs": [
    {
     "name": "stdout",
     "output_type": "stream",
     "text": [
      "Populating the interactive namespace from numpy and matplotlib\n"
     ]
    }
   ],
   "source": [
    "import operator\n",
    "from collections import defaultdict, Counter\n",
    "import matplotlib.pyplot as plt\n",
    "%pylab --no-import-all inline\n",
    "\n",
    "import gtnlplib.preproc\n",
    "import gtnlplib.viterbi\n",
    "import gtnlplib.clf_base\n",
    "import gtnlplib.scorer\n",
    "import gtnlplib.constants\n",
    "import gtnlplib.features\n",
    "import gtnlplib.tagger_base\n",
    "import gtnlplib.avg_perceptron\n",
    "import gtnlplib.str_perceptron\n",
    "import matplotlib.pyplot as plt"
   ]
  },
  {
   "cell_type": "code",
   "execution_count": 2,
   "metadata": {
    "collapsed": false
   },
   "outputs": [
    {
     "data": {
      "text/plain": [
       "<module 'gtnlplib.preproc' from 'gtnlplib/preproc.pyc'>"
      ]
     },
     "execution_count": 2,
     "metadata": {},
     "output_type": "execute_result"
    }
   ],
   "source": [
    "reload(gtnlplib.preproc)"
   ]
  },
  {
   "cell_type": "code",
   "execution_count": 3,
   "metadata": {
    "collapsed": true
   },
   "outputs": [],
   "source": [
    "## Define the file names\n",
    "trainfile = gtnlplib.constants.TRAIN_FILE\n",
    "devfile = gtnlplib.constants.DEV_FILE\n",
    "testfile = gtnlplib.constants.TEST_FILE # You do not have this for now\n",
    "offset = gtnlplib.constants.OFFSET"
   ]
  },
  {
   "cell_type": "code",
   "execution_count": 4,
   "metadata": {
    "collapsed": false
   },
   "outputs": [],
   "source": [
    "# for convenience\n",
    "tr_all = []\n",
    "for i,(words,tags) in enumerate(gtnlplib.preproc.conllSeqGenerator(trainfile)):\n",
    "    tr_all.append((words,tags))"
   ]
  },
  {
   "cell_type": "code",
   "execution_count": 5,
   "metadata": {
    "collapsed": false
   },
   "outputs": [
    {
     "name": "stdout",
     "output_type": "stream",
     "text": [
      "set(['!', '#', '$', '&', ',', 'A', '@', 'E', 'D', 'G', 'M', 'L', 'O', 'N', 'P', 'S', 'R', 'U', 'T', 'V', 'Y', 'X', 'Z', '^', '~'])\n"
     ]
    }
   ],
   "source": [
    "## Demo\n",
    "alltags = set()\n",
    "for i,(words, tags) in enumerate(gtnlplib.preproc.conllSeqGenerator(trainfile)):    \n",
    "    for tag in tags:\n",
    "        alltags.add(tag)\n",
    "print alltags\n"
   ]
  },
  {
   "cell_type": "markdown",
   "metadata": {},
   "source": [
    "# 1. Classification-based tagging #\n",
    "\n",
    "First, you will perform tagging as classification problem."
   ]
  },
  {
   "cell_type": "markdown",
   "metadata": {},
   "source": [
    "Recall that in structured prediction, we have the feature function decompose:\n",
    "\n",
    "\\begin{align*}\n",
    "\\renewcommand{\\vec}[1]{\\mathbf{#1}}\n",
    "\\vec{f}(\\vec{w},\\vec{y}) & = \\sum_m \\vec{f}(\\vec{w},y_m, y_{m-1}, m)\n",
    "\\end{align*}\n",
    "\n",
    "You will explicitly define your feature functions in this way -- even for the classification-based tagger, which won't consider $y_{m-1}$. The features themselves are defined as tuples, as in pset 3.\n",
    "\n",
    "Here is a simple example:"
   ]
  },
  {
   "cell_type": "code",
   "execution_count": 6,
   "metadata": {
    "collapsed": true
   },
   "outputs": [],
   "source": [
    "def wordFeatures(words,tag,prev_tag,m):\n",
    "    '''\n",
    "    :param words: a list of words\n",
    "    :type words: list\n",
    "    :param tag: a tag\n",
    "    :type tag: string\n",
    "    :type prev_tag: string\n",
    "    :type m: int\n",
    "    '''\n",
    "    out = {(offset,tag):1}\n",
    "    if m < len(words): #we can have m = M, for the transition to the end state\n",
    "        out[(gtnlplib.constants.EMIT,tag,words[m])]=1\n",
    "    return out"
   ]
  },
  {
   "cell_type": "code",
   "execution_count": 7,
   "metadata": {
    "collapsed": true
   },
   "outputs": [],
   "source": [
    "sent = 'they can can fish'.split()"
   ]
  },
  {
   "cell_type": "code",
   "execution_count": 8,
   "metadata": {
    "collapsed": false
   },
   "outputs": [
    {
     "data": {
      "text/plain": [
       "{('**OFFSET**', 'V'): 1, ('--EMISSION--', 'V', 'they'): 1}"
      ]
     },
     "execution_count": 8,
     "metadata": {},
     "output_type": "execute_result"
    }
   ],
   "source": [
    "wordFeatures(sent,'V','V',0)"
   ]
  },
  {
   "cell_type": "markdown",
   "metadata": {},
   "source": [
    "**Deliverable 1a** (1 point) Complete feature function 'wordCharFeatures' in gtnlplib/features.py, which includes the final character of the current word, and the final character of the preceding word (if $m > 1$) along with above features. The names for these features are defined in gtnlplib.constants."
   ]
  },
  {
   "cell_type": "code",
   "execution_count": 9,
   "metadata": {
    "collapsed": false
   },
   "outputs": [
    {
     "data": {
      "text/plain": [
       "<module 'gtnlplib.features' from 'gtnlplib/features.pyc'>"
      ]
     },
     "execution_count": 9,
     "metadata": {},
     "output_type": "execute_result"
    }
   ],
   "source": [
    "reload(gtnlplib.features)"
   ]
  },
  {
   "cell_type": "code",
   "execution_count": 10,
   "metadata": {
    "collapsed": false
   },
   "outputs": [
    {
     "name": "stdout",
     "output_type": "stream",
     "text": [
      "{('--curr-suff--', 'V', 'n'): 1, ('--EMISSION--', 'V', 'can'): 1, ('**OFFSET**', 'V'): 1, ('--prev-suff--', 'V', 'y'): 1}\n",
      "{('--curr-suff--', 'V', 'y'): 1, ('**OFFSET**', 'V'): 1, ('--EMISSION--', 'V', 'they'): 1}\n"
     ]
    }
   ],
   "source": [
    "# sanity check desired output\n",
    "print gtnlplib.features.wordCharFeatures(sent,'V','V',1)\n",
    "# no prev-suff feature in this one, because m=0\n",
    "print gtnlplib.features.wordCharFeatures(sent,'V','V',0)"
   ]
  },
  {
   "cell_type": "markdown",
   "metadata": {},
   "source": [
    "Now you will define a classification-based tagger. To get you started, here are some test weights."
   ]
  },
  {
   "cell_type": "code",
   "execution_count": 11,
   "metadata": {
    "collapsed": false
   },
   "outputs": [
    {
     "name": "stdout",
     "output_type": "stream",
     "text": [
      "defaultdict(<type 'float'>, {('--EMISSION--', 'X', 'fish'): 1, ('--EMISSION--', 'N', 'fish'): 1, ('--EMISSION--', 'X', 'they'): 1, ('--EMISSION--', 'V', 'can'): 1, ('**OFFSET**', 'V'): 1, ('--EMISSION--', 'N', 'they'): 1, ('**OFFSET**', 'N'): 1, ('--EMISSION--', 'X', 'can'): 1, ('**OFFSET**', 'X'): 1})\n"
     ]
    }
   ],
   "source": [
    "test_weights = defaultdict(float)\n",
    "test_tags = ['N','V','V','N']\n",
    "for i in range(len(sent)):\n",
    "    for feat in wordFeatures(sent,test_tags[i],'X',i): # for key in dict: iterate the keys\n",
    "        test_weights[feat] = 1\n",
    "    for feat in wordFeatures(sent,'X','X',i):\n",
    "        test_weights[feat] = 1\n",
    "print test_weights"
   ]
  },
  {
   "cell_type": "code",
   "execution_count": 12,
   "metadata": {
    "collapsed": true
   },
   "outputs": [],
   "source": [
    "# use this to find the highest-scoring label\n",
    "argmax = lambda x : max(x.iteritems(),key=operator.itemgetter(1))[0]"
   ]
  },
  {
   "cell_type": "markdown",
   "metadata": {},
   "source": [
    "**Deliverable 1b** (1 point): Complete the function classifierTagger in gtnlplib/tagger_base.py that takes a list of words, feature function, dict of weights, and a tagset, and outputs a list of predicted tags (one per word).\n",
    "\n",
    "You should use featfunc to get the features and return the list of tags with highest score for each word."
   ]
  },
  {
   "cell_type": "code",
   "execution_count": 13,
   "metadata": {
    "collapsed": false
   },
   "outputs": [
    {
     "data": {
      "text/plain": [
       "['N', 'V', 'V', 'N']"
      ]
     },
     "execution_count": 13,
     "metadata": {},
     "output_type": "execute_result"
    }
   ],
   "source": [
    "gtnlplib.tagger_base.classifierTagger(sent,wordFeatures,test_weights,alltags)"
   ]
  },
  {
   "cell_type": "code",
   "execution_count": 14,
   "metadata": {
    "collapsed": false
   },
   "outputs": [
    {
     "name": "stdout",
     "output_type": "stream",
     "text": [
      "0.139539705577\n"
     ]
    }
   ],
   "source": [
    "confusion = gtnlplib.tagger_base.evalTagger(lambda words,alltags : gtnlplib.tagger_base.classifierTagger(words,wordFeatures,test_weights,alltags),'test')\n",
    "print gtnlplib.scorer.accuracy(confusion)"
   ]
  },
  {
   "cell_type": "markdown",
   "metadata": {
    "collapsed": true
   },
   "source": [
    "**Deliverable 1c** (3 points): Apply your averaged perceptron from pset 2 to do part-of-speech tagging. Start by adapting your oneItAvgPerceptron function. You'll have to make some changes:\n",
    "\n",
    "- Replace your call to the predict() function with a call to classifierTagger()\n",
    "- The instanceGenerator now produces word lists and tag lists as instances, instead of feature counts.\n",
    "- You can treat entire sentences as instances, if you want -- this may be slightly easier. This means that you only update the weights after seeing an entire sentence, sort of like a minibatch.\n",
    "- You'll want to add the feature function as an extra argument to both oneItAvgPerceptron and trainAvgPerceptron\n",
    "- return the training accuracy rather than the number of errors"
   ]
  },
  {
   "cell_type": "markdown",
   "metadata": {},
   "source": [
    "Complete oneItAvgPerceptron function from gtnlplib/avg_perceptron.py for this part."
   ]
  },
  {
   "cell_type": "code",
   "execution_count": 15,
   "metadata": {
    "collapsed": false
   },
   "outputs": [
    {
     "data": {
      "text/plain": [
       "<module 'gtnlplib.avg_perceptron' from 'gtnlplib/avg_perceptron.pyc'>"
      ]
     },
     "execution_count": 15,
     "metadata": {},
     "output_type": "execute_result"
    }
   ],
   "source": [
    "reload(gtnlplib.avg_perceptron)"
   ]
  },
  {
   "cell_type": "code",
   "execution_count": 16,
   "metadata": {
    "collapsed": false
   },
   "outputs": [],
   "source": [
    "weights,wsum,tr_acc,i = gtnlplib.avg_perceptron.oneItAvgPerceptron(tr_all,wordFeatures,defaultdict(float),defaultdict(float),alltags)"
   ]
  },
  {
   "cell_type": "code",
   "execution_count": 17,
   "metadata": {
    "collapsed": false,
    "scrolled": true
   },
   "outputs": [
    {
     "name": "stdout",
     "output_type": "stream",
     "text": [
      "16.0 2611.0\n",
      "-1.0 -212.0\n",
      "2.0 587.0\n",
      "5.0 942.0\n"
     ]
    }
   ],
   "source": [
    "#sanity check. The weight sum numbers might be different if you don't treat sentences as instances, which is what I do.\n",
    "print weights[gtnlplib.constants.EMIT,'D','the'], wsum[gtnlplib.constants.EMIT,'D','the']\n",
    "print weights[gtnlplib.constants.EMIT,'N','the'], wsum[gtnlplib.constants.EMIT,'N','the']\n",
    "print weights[gtnlplib.constants.EMIT,'V','like'], wsum[gtnlplib.constants.EMIT,'V','like']\n",
    "print weights[gtnlplib.constants.EMIT,'P','like'], wsum[gtnlplib.constants.EMIT,'P','like']"
   ]
  },
  {
   "cell_type": "markdown",
   "metadata": {},
   "source": [
    "**Deliverable 1d** (2 points): Now adapt trainAvgPerceptron function in gtnlplib/avg_perceptron.py to do tagging. This should require fewer changes than oneItAvgPerceptron, but you will have to:\n",
    "\n",
    "- take a feature function as an argument\n",
    "- call evalTagger instead of evalClassifier to get the confusion pmatrix\n",
    "- don't forget you've modified oneItAvgPerceptron to return the training set accuracy, not the number of errors"
   ]
  },
  {
   "cell_type": "code",
   "execution_count": 18,
   "metadata": {
    "collapsed": false
   },
   "outputs": [
    {
     "name": "stdout",
     "output_type": "stream",
     "text": [
      "0 dev: 0.576819407008 train: 0.496545591354\n",
      "1 dev: 0.66618287373 train: 0.664956563376\n",
      "2 dev: 0.643375492432 train: 0.780149121007\n",
      "3 dev: 0.637777317023 train: 0.831725836241\n",
      "4 dev: 0.643168152602 train: 0.862439291333\n",
      "5 dev: 0.687538876218 train: 0.879403515972\n",
      "6 dev: 0.637984656853 train: 0.886791162186\n",
      "7 dev: 0.633630520423 train: 0.898146248033\n",
      "8 dev: 0.645241550902 train: 0.902045283535\n",
      "9 dev: 0.676342525399 train: 0.905807510774\n",
      "10 dev: 0.658303960191 train: 0.911895478487\n",
      "11 dev: 0.6659755339 train: 0.910458991723\n",
      "12 dev: 0.685880157578 train: 0.91415281483\n",
      "13 dev: 0.66742691271 train: 0.907928038854\n",
      "14 dev: 0.651461745801 train: 0.911690266092\n"
     ]
    }
   ],
   "source": [
    "w, tr_acc, dv_acc =  gtnlplib.avg_perceptron.trainAvgPerceptron(15,tr_all,gtnlplib.features.wordCharFeatures,alltags)"
   ]
  },
  {
   "cell_type": "code",
   "execution_count": 19,
   "metadata": {
    "collapsed": false
   },
   "outputs": [
    {
     "data": {
      "text/plain": [
       "defaultdict(int,\n",
       "            {('!', '!'): 45,\n",
       "             ('!', '#'): 2,\n",
       "             ('!', ','): 2,\n",
       "             ('!', '@'): 10,\n",
       "             ('!', 'D'): 1,\n",
       "             ('!', 'N'): 4,\n",
       "             ('!', 'P'): 13,\n",
       "             ('!', 'R'): 14,\n",
       "             ('!', 'V'): 8,\n",
       "             ('#', '#'): 6,\n",
       "             ('#', '$'): 1,\n",
       "             ('#', '@'): 12,\n",
       "             ('#', 'A'): 1,\n",
       "             ('#', 'N'): 3,\n",
       "             ('#', 'P'): 1,\n",
       "             ('#', 'R'): 13,\n",
       "             ('#', 'V'): 14,\n",
       "             ('#', '^'): 1,\n",
       "             ('$', '$'): 41,\n",
       "             ('$', '@'): 25,\n",
       "             ('$', 'A'): 1,\n",
       "             ('$', 'G'): 1,\n",
       "             ('$', 'O'): 1,\n",
       "             ('$', 'P'): 11,\n",
       "             ('$', 'V'): 5,\n",
       "             ('$', '^'): 1,\n",
       "             ('&', '&'): 87,\n",
       "             ('&', 'D'): 2,\n",
       "             ('&', 'P'): 1,\n",
       "             ('&', 'R'): 1,\n",
       "             (',', ','): 453,\n",
       "             (',', '@'): 3,\n",
       "             (',', 'G'): 8,\n",
       "             (',', 'P'): 4,\n",
       "             (',', '~'): 32,\n",
       "             ('@', '#'): 3,\n",
       "             ('@', '$'): 1,\n",
       "             ('@', '@'): 105,\n",
       "             ('@', 'N'): 8,\n",
       "             ('@', 'P'): 22,\n",
       "             ('@', 'R'): 46,\n",
       "             ('@', 'V'): 58,\n",
       "             ('A', '!'): 2,\n",
       "             ('A', '#'): 2,\n",
       "             ('A', '$'): 1,\n",
       "             ('A', '@'): 21,\n",
       "             ('A', 'A'): 118,\n",
       "             ('A', 'N'): 21,\n",
       "             ('A', 'P'): 11,\n",
       "             ('A', 'R'): 26,\n",
       "             ('A', 'V'): 37,\n",
       "             ('D', '@'): 2,\n",
       "             ('D', 'D'): 287,\n",
       "             ('D', 'L'): 5,\n",
       "             ('D', 'N'): 1,\n",
       "             ('D', 'P'): 9,\n",
       "             ('D', 'R'): 2,\n",
       "             ('D', 'V'): 6,\n",
       "             ('E', '$'): 2,\n",
       "             ('E', ','): 2,\n",
       "             ('E', '@'): 5,\n",
       "             ('E', 'E'): 31,\n",
       "             ('E', 'P'): 1,\n",
       "             ('E', 'V'): 5,\n",
       "             ('E', '^'): 2,\n",
       "             ('E', '~'): 4,\n",
       "             ('G', '#'): 4,\n",
       "             ('G', ','): 4,\n",
       "             ('G', '@'): 8,\n",
       "             ('G', 'E'): 1,\n",
       "             ('G', 'G'): 19,\n",
       "             ('G', 'N'): 2,\n",
       "             ('G', 'O'): 1,\n",
       "             ('G', 'P'): 8,\n",
       "             ('G', 'R'): 4,\n",
       "             ('G', 'V'): 5,\n",
       "             ('G', '~'): 9,\n",
       "             ('L', '@'): 4,\n",
       "             ('L', 'D'): 2,\n",
       "             ('L', 'L'): 52,\n",
       "             ('L', 'R'): 2,\n",
       "             ('L', 'V'): 5,\n",
       "             ('N', '!'): 3,\n",
       "             ('N', '#'): 1,\n",
       "             ('N', '$'): 2,\n",
       "             ('N', '@'): 65,\n",
       "             ('N', 'A'): 6,\n",
       "             ('N', 'E'): 3,\n",
       "             ('N', 'G'): 2,\n",
       "             ('N', 'L'): 1,\n",
       "             ('N', 'N'): 272,\n",
       "             ('N', 'P'): 55,\n",
       "             ('N', 'R'): 115,\n",
       "             ('N', 'V'): 130,\n",
       "             ('N', '^'): 5,\n",
       "             ('O', '@'): 2,\n",
       "             ('O', 'D'): 24,\n",
       "             ('O', 'N'): 1,\n",
       "             ('O', 'O'): 288,\n",
       "             ('O', 'P'): 12,\n",
       "             ('O', 'R'): 2,\n",
       "             ('O', 'V'): 4,\n",
       "             ('P', '@'): 1,\n",
       "             ('P', 'A'): 2,\n",
       "             ('P', 'N'): 1,\n",
       "             ('P', 'P'): 417,\n",
       "             ('P', 'R'): 13,\n",
       "             ('P', 'T'): 3,\n",
       "             ('P', 'V'): 3,\n",
       "             ('R', '!'): 2,\n",
       "             ('R', '@'): 5,\n",
       "             ('R', 'A'): 12,\n",
       "             ('R', 'D'): 1,\n",
       "             ('R', 'N'): 6,\n",
       "             ('R', 'P'): 13,\n",
       "             ('R', 'R'): 164,\n",
       "             ('R', 'T'): 1,\n",
       "             ('R', 'V'): 5,\n",
       "             ('S', 'R'): 5,\n",
       "             ('T', 'O'): 1,\n",
       "             ('T', 'P'): 23,\n",
       "             ('T', 'R'): 1,\n",
       "             ('T', 'T'): 11,\n",
       "             ('U', '$'): 2,\n",
       "             ('U', ','): 1,\n",
       "             ('U', '@'): 36,\n",
       "             ('U', 'A'): 3,\n",
       "             ('U', 'E'): 1,\n",
       "             ('U', 'P'): 27,\n",
       "             ('U', 'R'): 1,\n",
       "             ('U', 'U'): 1,\n",
       "             ('U', 'V'): 18,\n",
       "             ('U', '^'): 1,\n",
       "             ('V', ','): 1,\n",
       "             ('V', '@'): 40,\n",
       "             ('V', 'A'): 6,\n",
       "             ('V', 'N'): 31,\n",
       "             ('V', 'P'): 13,\n",
       "             ('V', 'R'): 27,\n",
       "             ('V', 'V'): 632,\n",
       "             ('V', '^'): 1,\n",
       "             ('X', 'D'): 1,\n",
       "             ('X', 'R'): 3,\n",
       "             ('Z', 'R'): 9,\n",
       "             ('^', '!'): 1,\n",
       "             ('^', '#'): 5,\n",
       "             ('^', ','): 1,\n",
       "             ('^', '@'): 85,\n",
       "             ('^', 'A'): 5,\n",
       "             ('^', 'D'): 1,\n",
       "             ('^', 'N'): 21,\n",
       "             ('^', 'P'): 35,\n",
       "             ('^', 'R'): 41,\n",
       "             ('^', 'V'): 68,\n",
       "             ('^', '^'): 48,\n",
       "             ('~', ','): 31,\n",
       "             ('~', 'G'): 1,\n",
       "             ('~', 'V'): 73,\n",
       "             ('~', '~'): 65})"
      ]
     },
     "execution_count": 19,
     "metadata": {},
     "output_type": "execute_result"
    }
   ],
   "source": [
    "#You will get the test file later (48 hours before the deadline)\n",
    "gtnlplib.tagger_base.evalTagger(lambda words,alltags : gtnlplib.tagger_base.classifierTagger(words,gtnlplib.features.wordCharFeatures,w,alltags),'avg_perceptron.response',testfile=devfile)"
   ]
  },
  {
   "cell_type": "markdown",
   "metadata": {},
   "source": [
    "**Deliverable 1e** (3 points): Make it better! Design a killer feature set that improves performance on the devset.\n",
    "\n",
    "I'm able to get above 84% on the dev set, without going too crazy. Warning: my additional features slow things down considerably.\n",
    "\n",
    "\n",
    "Please complete yourFeatures function from gtnlplib/features.py for this.\n",
    "In order to pass unit tests for this you should be able to get at least 81%."
   ]
  },
  {
   "cell_type": "code",
   "execution_count": 20,
   "metadata": {
    "collapsed": false
   },
   "outputs": [
    {
     "data": {
      "text/plain": [
       "<module 'gtnlplib.features' from 'gtnlplib/features.pyc'>"
      ]
     },
     "execution_count": 20,
     "metadata": {},
     "output_type": "execute_result"
    }
   ],
   "source": [
    "reload(gtnlplib.features)"
   ]
  },
  {
   "cell_type": "code",
   "execution_count": 21,
   "metadata": {
    "collapsed": false,
    "scrolled": false
   },
   "outputs": [
    {
     "name": "stdout",
     "output_type": "stream",
     "text": [
      "0 dev: 0.729628861704 train: 0.679731855804\n",
      "1 dev: 0.77669500311 train: 0.861960462412\n",
      "2 dev: 0.790172092059 train: 0.914836856146\n",
      "3 dev: 0.803441841178 train: 0.940009576578\n",
      "4 dev: 0.803649181008 train: 0.955537314454\n",
      "5 dev: 0.806759278457 train: 0.966481975511\n",
      "6 dev: 0.803441841178 train: 0.976810999384\n",
      "7 dev: 0.810284055567 train: 0.979068335727\n",
      "8 dev: 0.808625336927 train: 0.984198645598\n",
      "9 dev: 0.808003317437 train: 0.985635132362\n",
      "10 dev: 0.808832676757 train: 0.987550448047\n",
      "11 dev: 0.817333609786 train: 0.989534167864\n",
      "12 dev: 0.817126269956 train: 0.990628633969\n",
      "13 dev: 0.815260211487 train: 0.990286613311\n",
      "14 dev: 0.811735434377 train: 0.992885970313\n"
     ]
    }
   ],
   "source": [
    "w, tr_acc, dv_acc = gtnlplib.avg_perceptron.trainAvgPerceptron(15,tr_all,gtnlplib.features.yourFeatures,alltags)"
   ]
  },
  {
   "cell_type": "code",
   "execution_count": 22,
   "metadata": {
    "collapsed": false
   },
   "outputs": [],
   "source": [
    "confusion_clf = gtnlplib.tagger_base.evalTagger(lambda words,alltags : gtnlplib.tagger_base.classifierTagger(words,gtnlplib.features.yourFeatures,w,alltags),'avg_perceptron_custom.response',testfile=devfile)"
   ]
  },
  {
   "cell_type": "markdown",
   "metadata": {},
   "source": [
    "# 2. Discriminative Structure Prediction #\n",
    "\n",
    "Now you will implement a Structured Perceptron, which is trained to find the optimal *sequence* $\\vec{y} = \\text{arg}\\max_\\vec{y} \\theta^{\\top} \\vec{f}(\\vec{w},\\vec{y})$"
   ]
  },
  {
   "cell_type": "markdown",
   "metadata": {},
   "source": [
    "A key difference from the classification-based setting is that we compute features over the entire sequence.\n",
    "\n",
    "**Deliverable 2a** (1 point): Implement a function seqFeatures in gtnlplib/features.py , which takes a list of words, a list of tags, and a feature function, and returns a dictionary of features and their counts."
   ]
  },
  {
   "cell_type": "code",
   "execution_count": 23,
   "metadata": {
    "collapsed": false
   },
   "outputs": [
    {
     "data": {
      "text/plain": [
       "<module 'gtnlplib.features' from 'gtnlplib/features.pyc'>"
      ]
     },
     "execution_count": 23,
     "metadata": {},
     "output_type": "execute_result"
    }
   ],
   "source": [
    "reload(gtnlplib.features)"
   ]
  },
  {
   "cell_type": "code",
   "execution_count": 24,
   "metadata": {
    "collapsed": false
   },
   "outputs": [
    {
     "data": {
      "text/plain": [
       "defaultdict(float,\n",
       "            {('**OFFSET**', '--END--'): 1.0,\n",
       "             ('**OFFSET**', 'N'): 2.0,\n",
       "             ('**OFFSET**', 'V'): 2.0,\n",
       "             ('--EMISSION--', 'N', 'fish'): 1.0,\n",
       "             ('--EMISSION--', 'N', 'they'): 1.0,\n",
       "             ('--EMISSION--', 'V', 'can'): 2.0})"
      ]
     },
     "execution_count": 24,
     "metadata": {},
     "output_type": "execute_result"
    }
   ],
   "source": [
    "gtnlplib.features.seqFeatures(sent,['N','V','V','N'],wordFeatures)"
   ]
  },
  {
   "cell_type": "markdown",
   "metadata": {},
   "source": [
    "**Deliverable 2b** (1 point): now complete the function wordTransFeatures in gtnlplib/features.py, which adds tag-to-tag transition features to wordFeatures. Note that this feature set is identical to what the HMM uses."
   ]
  },
  {
   "cell_type": "code",
   "execution_count": 25,
   "metadata": {
    "collapsed": false
   },
   "outputs": [
    {
     "data": {
      "text/plain": [
       "defaultdict(float,\n",
       "            {('**OFFSET**', '--END--'): 1.0,\n",
       "             ('**OFFSET**', 'N'): 2.0,\n",
       "             ('**OFFSET**', 'V'): 2.0,\n",
       "             ('--EMISSION--', 'N', 'fish'): 1.0,\n",
       "             ('--EMISSION--', 'N', 'they'): 1.0,\n",
       "             ('--EMISSION--', 'V', 'can'): 2.0,\n",
       "             ('--TRANS--', '--END--', 'N'): 1.0,\n",
       "             ('--TRANS--', 'N', '--START--'): 1.0,\n",
       "             ('--TRANS--', 'N', 'V'): 1.0,\n",
       "             ('--TRANS--', 'V', 'N'): 1.0,\n",
       "             ('--TRANS--', 'V', 'V'): 1.0})"
      ]
     },
     "execution_count": 25,
     "metadata": {},
     "output_type": "execute_result"
    }
   ],
   "source": [
    "gtnlplib.features.seqFeatures(sent,['N','V','V','N'],gtnlplib.features.wordTransFeatures)"
   ]
  },
  {
   "cell_type": "markdown",
   "metadata": {},
   "source": [
    "**Deliverable 2c** (1 point): copy in your viterbiTagger from problem set 3. If you implemented it correctly, you should be able to use it without modification here."
   ]
  },
  {
   "cell_type": "code",
   "execution_count": 26,
   "metadata": {
    "collapsed": false
   },
   "outputs": [
    {
     "data": {
      "text/plain": [
       "<module 'gtnlplib.viterbi' from 'gtnlplib/viterbi.pyc'>"
      ]
     },
     "execution_count": 26,
     "metadata": {},
     "output_type": "execute_result"
    }
   ],
   "source": [
    "reload(gtnlplib.viterbi)"
   ]
  },
  {
   "cell_type": "code",
   "execution_count": 27,
   "metadata": {
    "collapsed": false
   },
   "outputs": [
    {
     "data": {
      "text/plain": [
       "(['N', 'V', 'V', 'N'], 8.0)"
      ]
     },
     "execution_count": 27,
     "metadata": {},
     "output_type": "execute_result"
    }
   ],
   "source": [
    "gtnlplib.viterbi.viterbiTagger(['they','can','can','fish'],gtnlplib.features.wordTransFeatures,test_weights,alltags)"
   ]
  },
  {
   "cell_type": "markdown",
   "metadata": {},
   "source": [
    "**Deliverable 2d** (3 points): Complete the function oneItAvgStructPerceptron in gtnlplib/str_perceptron.py, which performs a single iteration of averaged structured perceptron. It should be similar to your oneItAvgPerceptron, but will have to be different in some ways to reflect the structured prediction scenario.\n",
    "\n",
    "- To make predictions, you must call your viterbiTagger function\n",
    "- To compute the features for a given sequence of words and tags, you must call your seqFeatures function\n",
    "- As above, output the training accuracy, not the number of training errors"
   ]
  },
  {
   "cell_type": "code",
   "execution_count": 28,
   "metadata": {
    "collapsed": false
   },
   "outputs": [
    {
     "data": {
      "text/plain": [
       "<module 'gtnlplib.str_perceptron' from 'gtnlplib/str_perceptron.pyc'>"
      ]
     },
     "execution_count": 28,
     "metadata": {},
     "output_type": "execute_result"
    }
   ],
   "source": [
    "reload(gtnlplib.str_perceptron)"
   ]
  },
  {
   "cell_type": "markdown",
   "metadata": {},
   "source": [
    "Speed is important here. Use this line to benchmark your code.\n",
    "- My \"optimized\" implementation takes 1.1 seconds per iteration. \n",
    "- My \"less optimized\" implementation takes 1.6 seconds per iteration."
   ]
  },
  {
   "cell_type": "code",
   "execution_count": 29,
   "metadata": {
    "collapsed": false
   },
   "outputs": [
    {
     "name": "stdout",
     "output_type": "stream",
     "text": [
      "1 loops, best of 3: 1.22 s per loop\n"
     ]
    }
   ],
   "source": [
    "%%timeit\n",
    "weights,wsum,tr_acc,i = gtnlplib.str_perceptron.oneItAvgStructPerceptron(tr_all[:100],\n",
    "                                                                         gtnlplib.features.wordTransFeatures,\n",
    "                                                                         defaultdict(float),\n",
    "                                                                         defaultdict(float),\n",
    "                                                                         alltags)\n",
    "# careful, the %%timeit magic means that this block doesn't change the notebook state "
   ]
  },
  {
   "cell_type": "code",
   "execution_count": 30,
   "metadata": {
    "collapsed": true
   },
   "outputs": [],
   "source": [
    "weights,wsum,tr_acc,i = gtnlplib.str_perceptron.oneItAvgStructPerceptron(tr_all[:100],gtnlplib.features.wordTransFeatures,defaultdict(float),defaultdict(float),alltags)"
   ]
  },
  {
   "cell_type": "code",
   "execution_count": 31,
   "metadata": {
    "collapsed": false
   },
   "outputs": [
    {
     "name": "stdout",
     "output_type": "stream",
     "text": [
      "! ! -29.0 18.0\n",
      "! , 2.0 -49.0\n",
      "! @ 5.0 -75.0\n",
      "# # -3.0 -130.0\n",
      "# , -3.0 -329.0\n",
      "$ $ -14.0 -194.0\n",
      "$ , 1.0 -164.0\n",
      "& @ 2.0 127.0\n",
      ", ! 3.0 -196.0\n",
      ", # -4.0 -393.0\n",
      ", $ 3.0 68.0\n",
      ", & -3.0 -150.0\n",
      ", , -1.0 -43.0\n",
      ", A 3.0 158.0\n",
      ", @ 1.0 43.0\n",
      "A ! 2.0 108.0\n",
      "A , -1.0 -36.0\n",
      "A A -11.0 -400.0\n",
      "A @ -1.0 -33.0\n",
      "@ ! 1.0 95.0\n",
      "@ & 1.0 45.0\n",
      "@ @ -9.0 -412.0\n"
     ]
    }
   ],
   "source": [
    "for tag1 in list(alltags)[:7]:\n",
    "    for tag2 in list(alltags)[:7]:\n",
    "        if weights[gtnlplib.constants.TRANS,tag1,tag2] != 0:\n",
    "            print tag1,tag2,weights[(gtnlplib.constants.TRANS,tag1,tag2)],wsum[gtnlplib.constants.TRANS,tag1,tag2]"
   ]
  },
  {
   "cell_type": "markdown",
   "metadata": {},
   "source": [
    "**Deliverable 2e** (2 points): Implement trainAvgStructPerceptron in gtnlplib/str_perceptron.py. This will be quite similar to your trainAvgPerceptron from ps2, but will have to take slightly different arguments to handle the structured prediction case. Don't forget to use evalTagger to produce output."
   ]
  },
  {
   "cell_type": "code",
   "execution_count": 32,
   "metadata": {
    "collapsed": false
   },
   "outputs": [
    {
     "name": "stdout",
     "output_type": "stream",
     "text": [
      "0 dev: 0.340037321169 train: 0.431638418079\n",
      "1 dev: 0.230354551109 train: 0.567914438503\n",
      "2 dev: 0.458635703919 train: 0.734010152284\n",
      "3 dev: 0.408666804893 train: 0.846376811594\n",
      "4 dev: 0.467965996268 train: 0.861751152074\n"
     ]
    }
   ],
   "source": [
    "# your code should roughly reproduce this sanity check. It may be a little slow, so we'll just test on the first 50 instances.\n",
    "# While you're debugging your code, you can run on even smaller datasets.\n",
    "theta,tr_acc,dv_acc = gtnlplib.str_perceptron.trainAvgStructPerceptron(5,tr_all[:50],gtnlplib.features.wordTransFeatures,alltags)"
   ]
  },
  {
   "cell_type": "code",
   "execution_count": 33,
   "metadata": {
    "collapsed": false,
    "scrolled": false
   },
   "outputs": [
    {
     "name": "stdout",
     "output_type": "stream",
     "text": [
      "0 dev: 0.55525606469 train: 0.513501203722\n",
      "1 dev: 0.651669085631 train: 0.700996271622\n",
      "2 dev: 0.618909392494 train: 0.782924300035\n",
      "3 dev: 0.66473149492 train: 0.845881455655\n",
      "4 dev: 0.631764461953 train: 0.886489279256\n",
      "5 dev: 0.680074642339 train: 0.910095799558\n",
      "6 dev: 0.66162139747 train: 0.926761882463\n",
      "7 dev: 0.696039809247 train: 0.937910981883\n",
      "8 dev: 0.728592162554 train: 0.946606722329\n",
      "9 dev: 0.693759071118 train: 0.952247998358\n"
     ]
    }
   ],
   "source": [
    "theta,tr_acc,dv_acc = gtnlplib.str_perceptron.trainAvgStructPerceptron(10,tr_all,gtnlplib.features.wordTransFeatures,alltags)"
   ]
  },
  {
   "cell_type": "code",
   "execution_count": 34,
   "metadata": {
    "collapsed": false
   },
   "outputs": [
    {
     "name": "stdout",
     "output_type": "stream",
     "text": [
      "0.693759071118\n"
     ]
    }
   ],
   "source": [
    "confusion = gtnlplib.tagger_base.evalTagger(lambda words, alltags : gtnlplib.viterbi.viterbiTagger(words,gtnlplib.features.wordTransFeatures,theta,alltags)[0],'str_avg_perceptron.response',testfile=devfile)\n",
    "print gtnlplib.scorer.accuracy(confusion)"
   ]
  },
  {
   "cell_type": "markdown",
   "metadata": {},
   "source": [
    "**Deliverable 2f** (3 points): Implement a better feature set for structured prediction by completing yourHMMFeatures function in gtnlplib/features.py. For speed reasons, you might not want to use all the features you used in 4e, but try to get as good an accuracy as you can. Last year I was able to get my structured perceptron to work a little better than my best classifier, but this year my classifier is (very slightly) better!"
   ]
  },
  {
   "cell_type": "code",
   "execution_count": 35,
   "metadata": {
    "collapsed": false
   },
   "outputs": [
    {
     "data": {
      "text/plain": [
       "<module 'gtnlplib.features' from 'gtnlplib/features.pyc'>"
      ]
     },
     "execution_count": 35,
     "metadata": {},
     "output_type": "execute_result"
    }
   ],
   "source": [
    "reload(gtnlplib.features)"
   ]
  },
  {
   "cell_type": "code",
   "execution_count": 36,
   "metadata": {
    "collapsed": false,
    "scrolled": false
   },
   "outputs": [
    {
     "name": "stdout",
     "output_type": "stream",
     "text": [
      "0 dev: 0.710138917686 train: 0.809820548215\n",
      "1 dev: 0.77773170226 train: 0.897476759628\n",
      "2 dev: 0.772133526851 train: 0.927508682142\n",
      "3 dev: 0.764254613311 train: 0.944418973726\n",
      "4 dev: 0.787476674269 train: 0.951626639414\n",
      "5 dev: 0.789550072569 train: 0.959578323176\n",
      "6 dev: 0.800953763218 train: 0.963610269494\n",
      "7 dev: 0.797221646278 train: 0.969061968784\n",
      "8 dev: 0.802612481858 train: 0.972687752961\n",
      "9 dev: 0.796806966618 train: 0.973890263426\n",
      "10 dev: 0.804271200498 train: 0.974232781785\n",
      "11 dev: 0.785403275969 train: 0.97791225416\n",
      "12 dev: 0.799709724238 train: 0.980350689332\n",
      "13 dev: 0.795148247978 train: 0.979924390562\n",
      "14 dev: 0.799917064068 train: 0.979875492314\n"
     ]
    }
   ],
   "source": [
    "theta,tr_acc,dv_acc = gtnlplib.str_perceptron.trainAvgStructPerceptron(15,tr_all,gtnlplib.features.yourHMMFeatures,alltags)"
   ]
  },
  {
   "cell_type": "code",
   "execution_count": 40,
   "metadata": {
    "collapsed": false
   },
   "outputs": [
    {
     "name": "stdout",
     "output_type": "stream",
     "text": [
      "0.799917064068\n"
     ]
    }
   ],
   "source": [
    "confusion_str = gtnlplib.tagger_base.evalTagger(lambda words, alltags : gtnlplib.viterbi.viterbiTagger(words,gtnlplib.features.yourHMMFeatures,theta,alltags)[0],'str_avg_perceptron_custom.response',testfile=devfile)\n",
    "print gtnlplib.scorer.accuracy(confusion_str)"
   ]
  },
  {
   "cell_type": "markdown",
   "metadata": {},
   "source": [
    "# 3. Error analysis #\n",
    "\n",
    "(3 points; 7650 only). The scorer.py script produces a confusion matrix, which shows the most common types of errors. Consider your best tagger in any part of the assignment, and identify the three most frequent errors (e.g., N classified as V). Find an example sentence in your tagger has made each type of error, and explain why you think it made the mistake, and how it could be fixed. (If you are feeling competitive, you can then use this information to go back and try to improve your features.)"
   ]
  },
  {
   "cell_type": "code",
   "execution_count": 41,
   "metadata": {
    "collapsed": false
   },
   "outputs": [
    {
     "data": {
      "text/plain": [
       "[(('^', 'N'), 100), (('V', 'N'), 66), (('A', 'N'), 40)]"
      ]
     },
     "execution_count": 41,
     "metadata": {},
     "output_type": "execute_result"
    }
   ],
   "source": [
    "import operator\n",
    "confusion_sorted = sorted(confusion_clf.iteritems(), key=operator.itemgetter(1))[::-1]\n",
    "confusion_errs = [err for err in confusion_sorted if err[0][0]!= err[0][1]]\n",
    "confusion_errs[0:3]"
   ]
  },
  {
   "cell_type": "markdown",
   "metadata": {},
   "source": [
    "My best tagger is as in part 1e, i.e. classifier-based tagger with my own features defined in features.yourFeatures(). According to the confusion matrix displayed above, the three most common types of errors are \n",
    "- 1). '^' classified as 'N', proper noun tagged as normal noun. \n",
    "  + Example: I LOVE MY CELTICS, !!!\n",
    "  + True tags:       ['O', 'V', 'D', '^', ',']\n",
    "  + Predicted tags:  ['O', 'V', 'D', 'N', ',']\n",
    "  + Here 'CELTICS' should be tagged as proper noun but was tagged as noun. For this type of errors, according this [seminal paper](http://dl.acm.org/citation.cfm?id=2002747), we can add a tagger specialized in recognizing proper nouns through the likelihood of capitolizatoin of a token. But due to the inconsistency of capitalization in micro bloggers, the improvement is limited: the recall of proper nouns is only 71%, as mentioned in the paper.\n",
    "- 2). 'V' classified as 'N', verb tagged as noun.\n",
    "  + Example: @BettyMcSweets that hurts!\n",
    "  + True tags:       ['@', 'O', 'V', ',']\n",
    "  + Predicted tags:  ['@', 'O', 'N', ',']\n",
    "  + Here 'hurts' should be tagged as verb, but was tagged as noun. This error is clearly due to the inherent drawback of classifier taggers that it ignores the context and tags each word independently. This can be greatly improved by structured prediction as implemented in part 2. By considering local context features, such as local transition probabilities of tags, clearly a two-word sentence with tags ['N', 'V'] is much more common than that with tags ['N','N'], and this can be captured very well by the transition probabilitiy( or weights in discriminative prediction here), which is much higher for the first case. \n",
    "  + The reason i didn't use the AvgStructPerceptron tagger here because the overall accuracy is slightly worse than the classifier one. I think part of the reason is that I only added half of the features used in classifer tagger in AvgStructPerceptron tagger, due to the speed limit--the speed is already much slower even with half of the features, which is expected because viterbi algorithm is proportional to the square of number of features. \n",
    "- 3). 'A' classified as 'N', adjective tagged as noun.\n",
    "  + Example: It's time to make big changes ...\n",
    "  + True tags:       ['L', 'N', 'P', 'V', 'A','N',',']\n",
    "  + Predicted tags:  ['L', 'N', 'P', 'V', 'N','N',',']\n",
    "  + Here big should be tagged as adjective but was tagged as noun. This type of error has the same root as the previous example: lack of context features, clearly ['V','A','N'] is more likely than ['V','N','N']. Thus this can be improved by structured prediction as described in part 2. Particularly, for this specific case, a tri-gram HMM tagger will perform significantly better since there're quite some verbs that can be followed by two nouns or adjective + noun or noun + adverb etc. "
   ]
  },
  {
   "cell_type": "markdown",
   "metadata": {},
   "source": [
    "# 4. Bakeoff! #\n",
    "\n",
    "48 hours before the assignment is due, we will send you unlabeled test data. Your job is to produce a response file that I can evaluate. I'll present the results in class and give the best scorers a chance to explain what they did.\n",
    "\n",
    "\n",
    "** Deliverable 4 ** (3 points) Run your best system from any part of the\n",
    "assignment on the test data using the `generateKaggleSubmission()` function. Submit\n",
    "your response file to the class [Kaggle bakeoff](https://inclass.kaggle.com/c/gt-book-review-sentiment-analysis). Also **submit your Kaggle response file to T-Square as 'lastname-firstname.response'.** The top\n",
    "scores will be announced in class.\n"
   ]
  },
  {
   "cell_type": "markdown",
   "metadata": {},
   "source": [
    "#### I was late for joining the kaggle bakeoff, so I submitted the response file Shi-Chao.response in the tar-ball of response files, using classifier tagger in 1e"
   ]
  },
  {
   "cell_type": "code",
   "execution_count": 39,
   "metadata": {
    "collapsed": false
   },
   "outputs": [],
   "source": [
    "#confusion = gtnlplib.tagger_base.evalTagger(lambda words, alltags : gtnlplib.viterbi.viterbiTagger(words,gtnlplib.features.yourFeatures,theta,alltags)[0],'lastname-firstname.response',testfile=devfile)\n",
    "confusion_clf = gtnlplib.tagger_base.evalTagger(lambda words,alltags : gtnlplib.tagger_base.classifierTagger(words,gtnlplib.features.yourFeatures,w,alltags),'Shi-Chao.response',testfile=devfile)"
   ]
  }
 ],
 "metadata": {
  "kernelspec": {
   "display_name": "Python 2",
   "language": "python",
   "name": "python2"
  },
  "language_info": {
   "codemirror_mode": {
    "name": "ipython",
    "version": 2
   },
   "file_extension": ".py",
   "mimetype": "text/x-python",
   "name": "python",
   "nbconvert_exporter": "python",
   "pygments_lexer": "ipython2",
   "version": "2.7.9"
  }
 },
 "nbformat": 4,
 "nbformat_minor": 0
}
